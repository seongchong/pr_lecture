# 패키지 불러오기
import pandas as pd
import matplotlib.pyplot as plt
import numpy as np
from scipy.interpolate import interp1d
from scipy.optimize import curve_fit

# matplotlib 글꼴 및 그림 해상도 설정
plt.style.use("default")
plt.rcParams["font.family"] = "KoPubWorldDotum"
plt.rcParams["axes.unicode_minus"] = False
plt.rcParams["figure.dpi"] = 100

# 상수 정의
pi = np.pi  # 원주율
c = 2.99792e8  # 진공 중 빛의 속력


# 연습 문제: 주파수가 540 THz인 단색광의 진공 중 파장은 얼마인가?

# 빛의 주파수, 빛의 속도
주파수 = 540e12    # 단위: Hz
# 빛의 파장
파장 = c / 주파수  # 단위: m
# 결과 출력
print(f"주파수 {주파수 * 1E-12:4.1f} THz의 빛은 \
진공 중에서 파장이 {파장 * 1E9:6.2f} nm 이다.")


# 표준 관측자의 분광시감효율

# 밝은 빛 시감의 상대분광시감효율 V(λ)를 불러오기
d0 = pd.read_excel(
    "CIE_data.xlsx",
    sheet_name="CIE_V_lambda",
    index_col=0,
    usecols=[0, 1],
    names=["w", "V"],
)
# 밝은 빛 시감의 최대 분광 시감 효율
K_m = 683.0  # 단위: lm/W
# 밝은 빛 시감 분광시감효율 플롯팅
(K_m * d0.V).plot(marker=".")
# V(λ) 내삽 함수 정의
f_V = interp1d(d0.index, d0.V, fill_value=0,
               bounds_error=False, kind="cubic")
# 어두운 빛 시감의 상대분광시감효율 V'(λ)를 불러오기
d1 = pd.read_excel(
    "CIE_data.xlsx",
    sheet_name="CIE_V_prime_lambda",
    index_col=0,
    usecols=[0, 1],
    names=["w", "V"],
)
# 어두운 빛 시감의 최대 분광 시감 효율
K_m_prime = 1700.0  # 단위: lm/W
# 밝은 빛 시감 분광시감효율 플롯팅
(K_m_prime * d1.V).plot(
    figsize=(5, 3),
    xlim=(350, 800),
    xlabel="파장 (nm)",
    ylabel="분광시감효율 (lm/W)",
    title="CIE 분광시감효율함수",
    marker=".",
)
# V'(λ) 내삽 함수 정의
f_V_prime = interp1d(d1.index, d1.V, fill_value=0,
                     bounds_error=False, kind="cubic")
# 범례 표시
plt.legend([r"밝은 빛 시감 $K_m V(\lambda)$",
           r"어두운 빛 시감 $K_m^\prime V^\prime(\lambda)$"])
plt.show()


# 연습문제: 475 nm의 빛 0.1 mW은 밝은 빛 시감 기준과 어두운 시감 기준으로
# 각각 몇 lm 인가?

파장 = 475  # 475 nm
복사선속 = 0.1e-3  # 0.1 mW
밝은빛 = K_m * f_V(475) * 복사선속
어두운빛 = K_m_prime * f_V_prime(475) * 복사선속
print(
    f"파장 {파장} nm 의 {복사선속:4.2e} W 은 밝은 빛 시감으로 \
{밝은빛:4.2e} lm,\n어두운 빛 시감으로 {어두운빛:4.2e} lm 이다."
)


# LED R/G/B에 대한 복사측정량과 광측정량 계산

# 스펙트럼 데이터 불러오기
d2 = pd.read_excel("CIE_data.xlsx", sheet_name="SPD", index_col=0)
# 편의상 모두 복사선속이 100 W가 되도록 정규화 함.
d2 = d2 / d2.sum() * 100
# 파장 데이터 정의
dw = 5  # 파장간격 5 nm
# 파장 배열: 380, 385, ..., 780
w = np.arange(380, 780 + dw, dw)
# 상대분광시감효율 V(λ)
V = d0.V[w]
# 그래프 설정
fig, axes = plt.subplots(nrows=1, ncols=3)
for idx, S in enumerate([d2.LED_R[w], d2.LED_G[w], d2.LED_B[w]]):
    # S(λ) 플롯
    S.plot(ax=axes[idx], kind="area", stacked=False)
    # S(λ)V(λ) 플롯
    (S * V).plot(ax=axes[idx], secondary_y=False,
                 kind="area", stacked=False)
    # V(λ) 플롯
    V.plot(
        ax=axes[idx],
        figsize=(9, 3),
        xlim=(350, 800),
        xlabel="파장 (nm)",
        secondary_y=True,
    )
    # 범례 표시
    lines = axes[idx].get_lines() + axes[idx].right_ax.get_lines()
    axes[idx].legend(
        lines, [r"$S(\lambda)$",
                r"$S(\lambda)V(\lambda)$",
                r"$V(\lambda)$"]
    )
    # 제목표시
    axes[idx].set_title(S.name)
    # 광측정량 계산
    f_e = S.sum() * dw
    # 복사측정량 계산
    f_v = (S * V).sum() * dw * K_m
    # 광측정량, 복사측정량 출력
    print(f"{idx} - 광원: {S.name}, \
복사측정량: {f_e:4.2f}, 광측정량: {f_v:4.2f}")
plt.tight_layout()
plt.show()


# 연습문제: 직경 1 cm의 원형 센서 633 nm의 빛 1 mW 가 입사되고 있을 때의
# 센서면에서의 광조도는?

파장 = 633  # 633 nm
복사선속 = 1e-3  # 1 mW
광선속 = K_m * f_V(633) * 복사선속
직경 = 1e-2  # 1 cm
면적 = pi * (직경 / 2) ** 2
광조도 = 광선속 / 면적
print(f"광조도 =  {광조도:4.2e} lx")


# 연습문제: 수직면에서 100 lx의 광조도를 형성했다면
# 수직에서 30°만큼 기울어진 면에서의 형성되는 광조도는?

광조도_0 = 100  # 100 lx
입사각 = 30 * pi / 180  # 30°의 래디안 값
광조도_30 = 100 * np.cos(입사각)
print(f"30°에서의 광조도 {광조도_30:3.1f} lx")


# 연습문제: 공기와 색필터의 굴절율이 각각 1.00, 1.54+0.91j (500 nm) 일 때,
# 경계면에서의 입사각 0° ~ 90°의 반사율은?

# 프레넬 반사율 계산 함수 정의
def fresnel_reflectance(x_i, n_i, n_t):
    x_t = np.arcsin(n_i * np.sin(x_i) / n_t)
    # s 편광의 Fresnel 반사계수
    r_s = (n_i * np.cos(x_i) - n_t * np.cos(x_t)) / (
        n_i * np.cos(x_i) + n_t * np.cos(x_t)
    )
    # p 편광의 Fresnel 반사계수
    r_p = (n_t * np.cos(x_i) - n_i * np.cos(x_t)) / (
        n_t * np.cos(x_i) + n_i * np.cos(x_t)
    )
    # s 편광의 Fresnel 반사율
    R_s = np.real(np.conj(r_s) * r_s)
    # p 편광의 Fresnel 반사율
    R_p = np.real(np.conj(r_p) * r_p)
    return R_s, R_p


n_i = 1.00  # 공기의 굴절율
n_t = 1.54 + 0.91j  # 색필터의 굴절율 (HOYA G533)
for ang in range(0, 90 + 15, 15):
    x_i = ang * pi / 180  # degree -> radian
    R_s, R_p = fresnel_reflectance(x_i, n_i, n_t)
    print(
        f"{ang:2d}°: s-편광 반사율 {R_s:5.3f}, \
p-편광 반사율 {R_p:5.3f}, 평균 반사율 {(R_p + R_s)/2:5.3f}"
    )


# 연습문제: 공기와 Si의 굴절율이 각각 1.00, 4.32 (500 nm) 일 때,
# 경계면에서의 입사각 0° ~ 90°의 반사율은?

n_i = 1.00  # 공기의 굴절율
n_t = 4.32  # Si의 굴절율
for ang in range(0, 90 + 15, 15):
    x_i = ang * pi / 180
    R_s, R_p = fresnel_reflectance(x_i, n_i, n_t)
    print(
        f"{ang:2d}°: s-편광 반사율 {R_s:5.3f}, \
p-편광 반사율 {R_p:5.3f}, 평균 반사율 {(R_p + R_s)/2:5.3f}"
    )


# 연습문제: 1000 cd 의 광도를 갖는 전구가 10 m 앞에 형성하는 광조도 값은?
# 단, 전구의 크기는 충분히 작다.

광도 = 1000   # 1000 cd
거리 = 10   # 10 m
광조도 = 광도 / 거리**2
print(f"{광도} cd 의 전구는 {거리} m 앞에 {광조도:5.1f} lx 의 광조도를 만든다.")


# 연습문제: 다음은 실제 광도표준전구를 점등하여 여러 위치에서 측정한
# 광조도 값이다. 광도와 거리옵셋을 구하라.

거리 = np.array([0.6744, 0.8407, 1.0162, 1.1968, 1.4424])  # 단위: m
광조도 = np.array([2326, 1494, 1023, 736.9, 507.2])  # 단위: lx


# 모델 함수 f_Ev = Iv/(r+delta)^2
def f_Ev(r, Iv, delta):
    return Iv / (r + delta) ** 2


# fitting
(광도, 옵셋), _ = curve_fit(f_Ev, 거리, 광조도, method="lm", p0=[광조도[-1] * 거리[-1] ** 2, 0])

# 결과 출력
print(f"광도 {광도:4.0f} cd, 거리 옵셋 {옵셋*1000:3.1f} mm")
# 그림으로 도식화
plt.figure(figsize=[5, 3])
plt.scatter(거리, 광조도, marker="o")
x = np.linspace(거리[0], 거리[-1], 500)
plt.plot(
    x,
    f_Ev(x, 광도, 옵셋),
)
plt.xlabel("거리 (m)")
plt.ylabel("광조도 (lx)")
plt.legend(["측정값", "fitting"])
plt.show()


# 300 cd/m^2 광휘도를 내는 600 mm x 350 mm의 디스플레이 패널의
# 전체 광선속은 얼마인가? (람베르트 광원 근사)

광휘도 = 300
면적 = 600e-3 * 350e-3
광선속 = pi * 광휘도 * 면적
print(f"광선속: {광선속:5.1f} lm")


# 광조도계를 구성하는 요소의 광학적 특성 데이터 불러오기
# 확산판, 색필터 1, 색필터2의 분광투광율, Si 광다이오드의 분광감응도
dat = pd.read_excel("illuminance_meter.xlsx", index_col=0)

# 데이터 보여주기
print(dat.head())

# 데이터 플롯
dat.loc[:, ['diffuser', 'filter1', 'filter2']].plot(figsize=[4.2, 3], xlabel="파장(nm)")
plt.ylabel('분광투과율')
dat['PD'].plot(secondary_y=True, xlabel="파장(nm)")
plt.ylabel('분광감응도(A/W)')
plt.legend()
plt.show()


# 상대분광감응도 계산 및 플롯
plt.figure(figsize=[5, 3])
plt.plot(dat.index, f_V(dat.index), label=r"CIE 1924 V($\lambda$)")
s_rel = dat['diffuser'] * dat['filter1'] * dat['filter2'] * dat['PD']
s_rel /= s_rel.max()
plt.plot(dat.index, s_rel, label=r"상대분광감응도")
plt.xlabel("파장(nm)")
plt.ylabel("상대분광감응도")
plt.legend()
plt.show()


# CIE A 표준광의 분광분포 함수 정의
f_A = (
    lambda w: 100
    * (560 / w) ** 5
    * (np.exp(1.435e7 / (2848 * 560)) - 1)
    / (np.exp(1.435e7 / (2848 * w)) - 1)
)
# CIE A 표준광
Sa = f_A(dat.index)
# 색온도 6500 K의 백색 LED
Sb = d2.LED_W65.reindex(dat.index, fill_value=0)

# CIE A 표준광 100 lx의 분광복사조도
Ea = 100 / np.sum(K_m * Sa * f_V(dat.index) * 5) * Sa  # W/m^2nm
Eb = 100 / np.sum(K_m * Sb * f_V(dat.index) * 5) * Sb  # W/m^2nm
plt.plot(dat.index, Ea)
plt.plot(dat.index, Eb)
plt.xlabel("파장(nm)")
plt.ylabel(r"분광복사조도($\mathrm{W/m^2nm}$)")
plt.show()
# 광조도값 확인
Ea_v = np.sum(K_m * Ea * f_V(dat.index) * 5)
Eb_v = np.sum(K_m * Eb * f_V(dat.index) * 5)
Ea_v, Eb_v


# 분광복사조도 E가 확산판을 통과한 뒤의 분광복사휘도
La_s = Ea * dat.diffuser / pi                     # W/m^2nm sr
Lb_s = Eb * dat.diffuser / pi                     # W/m^2nm sr

# 필터 1과 필터2를 통과한 뒤의 분광복사휘도
La_s *= dat.filter1 * dat.filter2                # W/m^2nm sr
Lb_s *= dat.filter1 * dat.filter2                # W/m^2nm sr

# L_s가 Si 광다이오드 표면에 전달한 분광복사조도 계산
r_s, r_d, d = 10e-3 / 2, 4e-3 / 2, 5e-3
A_s, A_d = pi * r_s**2, pi * r_d**2
Ea_d = (
    La_s
    * A_s
    / (2 * r_d**2 * r_s**2)
    * (
        r_s**2 + r_d**2 + d**2
        - np.sqrt((r_s**2 + r_d**2 + d**2) ** 2 - 4 * r_d**2 * r_s**2)
    )
)
Eb_d = (
    Lb_s
    * A_s
    / (2 * r_d**2 * r_s**2)
    * (
        r_s**2 + r_d**2 + d**2
        - np.sqrt((r_s**2 + r_d**2 + d**2) ** 2 - 4 * r_d**2 * r_s**2)
    )
)

# Si 광다이오드 전체에 입사한 분광복사선속
Phia_d = Ea_d * A_d   # W/nm
Phib_d = Eb_d * A_d   # W/nm

# Si 광다이오드의 출력전류
Ia_d = (Phia_d * dat.PD * 5).sum()
Ib_d = (Phib_d * dat.PD * 5).sum()

# 결과출력
print(f"CIE A 표준광: 입사 광조도 {Ea_v:5.1f} lx 일 때, 광조도계의 출력전류 {Ia_d:5.3e} A")
print(f"W LED 6500K: 입사 광조도 {Eb_v:5.1f} lx 일 때, 광조도계의 출력전류 {Ib_d:5.3e} A")


# 연습문제: 적분구 광원의 출사창 직경 25 mm, 광조도계의 검출면 직경 15 mm,
# 적분구-광조도계 간 거리 500 mm 이고, 광조도계로 측정한 광조도 값이 10 lx 일 때,
# 적분구 광원의 광휘도를 구하라.

r_a = (25e-3) / 2
A = pi * r_a**2
r_d = (15e-3) / 2
d = 500e-3
E_v = 10
L_v = (1 + (r_a / d) ** 2 + (r_d / d) ** 2) * E_v * d**2 / A
print(f"광휘도 : {L_v:4.0f} nt")


# 연습문제: 광선속 500 lm을 직경 50 cm, 반사율 95% 적분구(시창 직경 15 cm)에
# 넣었을 때 적분구의 표면 광휘도는?

phi = 500  # 광선속 (50 W 할로겐 전구)
rho = 0.95  # 적분구 표면 반사율
R = 50e-2 / 2  # 적분구 반경
A = 4 * pi * R**2  # 적분구 표면적
r = 15e-2 / 2  # 시창 반경
a = pi * r**2  # 시창 면적
rho_e = rho * (A - a) / A  # 유효반사율
L = rho * phi / (4 * pi**2 * R**2) * rho / (1 - rho_e)
print(f"유효반사율 {rho_e:5.3} 광휘도 {L:5.0f} nt")


# 연습문제: 적분구 광도계를 이용하여 전구 x의 전광선속을 측정하려고 한다.
# 기준으로 사용한 표준전구의 전광선속은 1000 lm이고, 표준전구 점등 시 기기의
# 지시값은 50 lx, 전구 x 점등 시 기기의 지시값은 40 lx 이었다. 또한, 보조전구
# 점등 하에서 표준전구 장착 시 기기의 지시값은 100 lx, 전구 x 장착 시 기기의
# 지시값은 102 lx 이었다. 전구 x의 전광선속은?

Phi_ref = 1000
y_ref, y_dut = 50, 40
x_ref, x_dut = 100, 102
Phi_dut = Phi_ref * y_dut / y_ref * x_ref / x_dut
print(f"전광선속 : {Phi_dut:5.1f} lm")


# 2도 시야 등색함수
d3 = pd.read_excel(
    "CIE_data.xlsx", sheet_name="CIE_CMF", index_col=0, usecols=[0, 1, 2, 3]
)
print(d3.head())
d3.plot(
    figsize=(5, 3),
    xlim=(350, 800),
    marker=".",
    xlabel="파장 (nm)",
    color=["r", "g", "b"],
    title="CIE 2°시야 등색함수",
)
plt.legend([r"$\bar{x}_2(\lambda)$", r"$\bar{y}_2(\lambda)$", r"$\bar{z}_2(\lambda)$"])
plt.show()


# 연습문제: CIE A 표준광원의 X, Y, Z 삼자극치를 구하라
# 참고: CIE A 표준광원의 분광분포
#   f_A(w) =
#   100(560/w)^5[exp(1.435E7/(2848*560))-1]/[exp(1.435E7/(2848*w))-1]


# 삼자극치 계산함수의 정의
def tristimulus(S):
    X = dw * K_m * d3.x2[w].mul(S).sum()
    Y = dw * K_m * d3.y2[w].mul(S).sum()
    Z = dw * K_m * d3.z2[w].mul(S).sum()
    return X, Y, Z


# CIE A 표준광원의 분광분포 함수 정의
f_A = (
    lambda w: 100
    * (560 / w) ** 5
    * (np.exp(1.435e7 / (2848 * 560)) - 1)
    / (np.exp(1.435e7 / (2848 * w)) - 1)
)
# 분광분포 계산
S = f_A(w)
# 삼자극치 계산
X, Y, Z = tristimulus(S)
# 삼자극치 출력
print(f"X = {X:5.3e}, Y = {Y:5.3e}, Z = {Z:5.3e}")
# 그래프로 표현
fig, ax1 = plt.subplots(figsize=(5, 3))
ax2 = ax1.twinx()
ax1.plot(w, S, ".-")
ax2.plot(w, d3.x2[w], "r-")
ax2.plot(w, d3.y2[w], "g-")
ax2.plot(w, d3.z2[w], "b-")
ax1.set_xlabel("파장 (nm)")
ax1.set_ylabel("분광분포")
ax2.set_ylabel("등색함수")
lines = ax1.get_lines() + ax2.get_lines()
ax2.legend(
    lines,
    [
        r"CIE A 표준광원",
        r"$\bar{x}_2(\lambda)$",
        r"$\bar{y}_2(\lambda)$",
        r"$\bar{z}_2(\lambda)$",
    ],
)
plt.show()


# 연습문제: CIE A 표준광원의 CIE 1931 (x, y) 색좌표를 구하라.


# XYZ -> xy 계산 함수 정의
def CIE1931xy(X, Y, Z):
    return X / (X + Y + Z), Y / (X + Y + Z)


# CIE 1931 색좌표계 도시 함수 정의
def show_CIE1931(x, y):
    img = plt.imread("CIE1931_cropped.png")
    plt.figure(figsize=(5, 6))
    plt.imshow(img, extent=[0, 0.8, 0, 0.9])
    plt.plot(x, y, "k+")
    plt.xlabel("$x$")
    plt.ylabel("$y$")
    plt.title("CIE 1931 $(x,~y)$")
    plt.show()


# CIE 1931 (x, y) 색좌표 계산
x, y = CIE1931xy(X, Y, Z)
# CIE 1931 (x, y) 색좌표 출력
print(f"CIE 1931 (x, y) = ({x:6.4f}, {y:6.4f})")
# CIE 1931 (x, y) 색좌표계 도시
show_CIE1931(x, y)


# 연습문제: CIE A 표준광원의 CIE 1976 (u', v') 색좌표를 구하라.


# xy -> u'v' 계산 함수 정의
def CIE1976uv_from_xy(x, y):
    return 4 * x / (-2 * x + 12 * y + 3), 9 * y / (-2 * x + 12 * y + 3)


# CIE 1976 색좌표계 도시 함수 정의
def show_CIE1976(up, vp):
    img = plt.imread("CIE1976_cropped.png")
    plt.figure(figsize=(5, 5))
    plt.imshow(img, extent=[0, 0.6, 0, 0.6])
    plt.plot(up, vp, "k+")
    plt.xlabel("$u'$")
    plt.ylabel("$v'$")
    plt.title("CIE 1976 $(u',~v')$")
    plt.show()


up, vp = CIE1976uv_from_xy(x, y)
print(f"CIE 1976 (u', v') = ({up:6.4f}, {vp:6.4f})")
show_CIE1976(up, vp)


# 연습문제: CIE A 표준광원의 CIE 1960 (u, v) 색좌표를 구하라.


# xy -> uv 계산 함수
def CIE1960uv_from_xy(x, y):
    return 4 * x / (-2 * x + 12 * y + 3), 6 * y / (-2 * x + 12 * y + 3)


# CIE 1976 색좌표계 도시 함수 정의
def show_CIE1960(u, v):
    img = plt.imread("CIE1960_cropped.png")
    plt.figure(figsize=(5, 4))
    plt.imshow(img, extent=[0, 0.6, 0, 0.4])
    plt.plot(u, v, "k+")
    plt.xlabel("$u$")
    plt.ylabel("$v$")
    plt.title("CIE 1960 $(u,~v)$")
    plt.show()


# CIE 1960 (u, v) 색좌표 계산
u, v = CIE1960uv_from_xy(x, y)
# CIE 1960 (u, v) 색좌표 출력
print(f"CIE 1960 (u, v) = ({u:6.4f}, {v:6.4f})")
# CIE 1960 (u, v) 색좌표계 도시
show_CIE1960(u, v)


# 디스플레이 색역 (color gamut)
# sRGB B, G, R, W 점의 (x, y)
sRGB_x = [0.150, 0.300, 0.640, 0.313]
sRGB_y = [0.060, 0.600, 0.330, 0.329]
# Adobe RGB B, G, R, W 점의 (x, y)
Adobe_x = [0.150, 0.210, 0.640, 0.313]
Adobe_y = [0.060, 0.710, 0.330, 0.329]
# P3-D65 B, G, R, W 점의 (x, y)
P3_D65_x = [0.150, 0.265, 0.680, 0.313]
P3_D65_y = [0.060, 0.690, 0.320, 0.329]


# 연습문제: 삼성 갤럭시 휴대폰의 R, G, B 원색과 W의 CIE 1931 색좌표를 계산하라.

# 여러 스펙트럼에 대한 CIE 1931 xy 색좌표 계산 함수 정의
def CIE1931xy_list(S):
    X = K_m * S.mul(d3.x2[w], axis=0).sum() * dw
    Y = K_m * S.mul(d3.y2[w], axis=0).sum() * dw
    Z = K_m * S.mul(d3.z2[w], axis=0).sum() * dw
    return X / (X + Y + Z), Y / (X + Y + Z)


#  색역 도시 함수 정의
def show_gamut(x, y, title=""):
    img = plt.imread("CIE1931_cropped.png")
    plt.figure(figsize=(5, 6))
    plt.imshow(img, extent=[0, 0.8, 0, 0.9])
    plt.plot([*x[:-1], x[0]], [*y[:-1], y[0]], "k.-")
    plt.plot(x[-1], y[-1], "k+")
    plt.text(x[1] - 0.003, y[1] + 0.005, title)
    plt.plot([*sRGB_x[:-1], sRGB_x[0]], [*sRGB_y[:-1], sRGB_y[0]], "r.--")
    plt.plot(sRGB_x[-1], sRGB_y[-1], "r+")
    plt.text(sRGB_x[1] - 0.003, sRGB_y[1] + 0.005, "sRGB")
    plt.plot([*Adobe_x[:-1], Adobe_x[0]], [*Adobe_y[:-1], Adobe_y[0]], "b.--")
    plt.plot(Adobe_x[-1], Adobe_y[-1], "b+")
    plt.text(Adobe_x[1] - 0.003, Adobe_y[1] + 0.005, "Adobe")
    plt.plot([*P3_D65_x[:-1], P3_D65_x[0]],
             [*P3_D65_y[:-1], P3_D65_y[0]], "g.--")
    plt.plot(P3_D65_x[-1], P3_D65_y[-1], "g+")
    plt.text(P3_D65_x[1] - 0.003, P3_D65_y[1] + 0.005, "P3_D65")
    plt.xlabel("$x$")
    plt.ylabel("$y$")
    plt.title("CIE 1931 $(x,~y)$")
    plt.show()


# 삼성 갤럭시 휴대폰의 R, G, B 원색과 W 스펙트럼
cols = ["SAMSUNG_R", "SAMSUNG_G", "SAMSUNG_B", "SAMSUNG_W"]
S = d2.loc[w, cols]
S.plot(color=["r", "g", "b", "k"], xlabel="파장 (nm)",
       ylabel="분광분포", figsize=[5, 3])
plt.show()

# CIE 1931 xy 색좌표 계산
x, y = CIE1931xy_list(S)
for col, xi, yi in zip(cols, x, y):
    print(f"{col} ({xi:6.4f}, {yi:6.4f})")

# 색역 도시
show_gamut(x.values, y.values, cols[1])


# 연습문제: 애플 아이폰 휴대폰의 R, G, B 원색과 W의 CIE 1931 색좌표를 계산하라.

# 애플 아이폰 휴대폰의 R, G, B 원색과 W 스펙트럼

cols = ["APPLE_R", "APPLE_G", "APPLE_B", "APPLE_W"]
S = d2.loc[w, cols]
S.plot(color=["r", "g", "b", "k"], xlabel="파장 (nm)",
       ylabel="분광분포", figsize=[5, 3])
plt.show()

# CIE 1931 xy 색좌표 계산
x, y = CIE1931xy_list(S)
for col, xi, yi in zip(cols, x, y):
    print(f"{col} ({xi:6.4f}, {yi:6.4f})")

# 색역 도시
show_gamut(x.values, y.values, cols[1])


# 연습문제: 온도 T 흑체의 CIE 1960 (u, v) 색좌표계 상 궤적을 그려라

# 복사상수
c1, c2 = 3.74177e-16, 1.43878e-2


# 흑체의 분광분포
def f_bb(w, T):
    return c1 / (w * 1e-9) ** 5 / ((np.exp(c2 / (w * 1e-9 * T))) - 1) * 1e-9


# 1500 K ~ 20000 K 까지 100 K 간격의 흑체의 (u, v) 궤적 계산
u_bb_list = []
v_bb_list = []
for T in range(1500, 20000 + 100, 100):
    S = f_bb(w, T)
    X, Y, Z = tristimulus(S)
    u_bb, v_bb = CIE1960uv_from_xy(*CIE1931xy(X, Y, Z))
    u_bb_list.append(u_bb)
    v_bb_list.append(v_bb)


# CIE1960 좌표계 도시 함수 정의
def show_CIE1960_CCT(u, v):
    img = plt.imread("CIE1960_cropped.png")
    plt.figure(figsize=(6, 5))
    plt.imshow(img, extent=[0, 0.6, 0, 0.4])
    plt.plot(u, v, "k+")
    plt.plot(u_bb_list, v_bb_list, "k-")
    plt.xlim([0.16, 0.36])
    plt.ylim([0.26, 0.40])
    plt.xlabel("$u$")
    plt.ylabel("$v$")
    plt.title("CIE 1960 $(u,~v)$ 좌표계")
    plt.show()


# CIE 1960 색좌표계에 u_bb,v_bb 도시
show_CIE1960_CCT(u_bb_list, v_bb_list)


# 연습문제: CIE A 표준광원의 상관색온도와 Duv를 계산하라

# 경사하강법을 이용한 상관색온도 계산 함수 정의
def CCT_iteration(u, v, verbose=False):
    gain = 1e5
    dT = 0.1
    T = 1000
    correction = 0
    for iter in range(10000):
        # 온도 T 흑체와 거리 계산
        S = f_bb(w, T)
        u_bb, v_bb = CIE1960uv_from_xy(*CIE1931xy(*tristimulus(S)))
        duv_0 = np.sqrt((u_bb - u) ** 2 + (v_bb - v) ** 2)
        # 온도 T + dT 흑체와 거리 계산
        S = f_bb(w, T + dT)
        u_bb, v_bb = CIE1960uv_from_xy(*CIE1931xy(*tristimulus(S)))
        duv_1 = np.sqrt((u_bb - u) ** 2 + (v_bb - v) ** 2)
        # 거리의 미분에 gain을 곱한만큼 경사하강
        correction = (correction - (duv_1 - duv_0) / dT * gain) / 2
        T += correction
        if iter % 50 == 0 and verbose == True:
            print(
                f"iter: {iter:4d}, correction: {correction:4.2e}, \
 T= {T:6.1f}, Duv = {duv_0*np.sign(v - v_bb):6.4f}"
            )
        if abs(correction) < 1e-4:
            break
    if verbose:
        print(
            f"iter: {iter:4d}, correction: {correction:4.2e}, \
T= {T:6.1f}, Duv = {duv_0*np.sign(v - v_bb):6.4f}"
        )
    return T, duv_0


# 앞에서 구한 CIE A 표준광원의 u, v 색좌표
u, v = 0.2560, 0.3495
# 경사하강법에 의한 상관색온도 계산
CCT, Duv = CCT_iteration(u, v, verbose=True)
print(f"경사하강법에 의한 CCT = {CCT:6.1f} K, Duv = {Duv:6.4f}")
# CIE 1960 색좌표계에 u,v 도시
show_CIE1960_CCT(u, v)


# 연습문제: Robertson's 방법으로 (u, v) = (0.2560, 0.3495)의 상관색온도를 구하시오
(u, v) = (0.2560, 0.3495)

# 상관색온도, u, v, 법선의 기울기를 테이블 만들기
iTbb = np.arange(10, 2000 + 10, 10)
iTbb = np.array([0.1, *iTbb])
d4 = pd.DataFrame(index=iTbb, columns=["Tbb", "u", "v", "slope"])
d4.index.name = "iTbb"
dT = 0.001
for idx in d4.index:
    T = 1e6 / idx
    S = f_bb(w, T)
    u_bb_0, v_bb_0 = CIE1960uv_from_xy(*CIE1931xy(*tristimulus(S)))
    S = f_bb(w, T + dT)
    u_bb_1, v_bb_1 = CIE1960uv_from_xy(*CIE1931xy(*tristimulus(S)))
    d4.loc[idx, "Tbb"] = T
    d4.loc[idx, "u"] = u_bb_0
    d4.loc[idx, "v"] = v_bb_0
    d4.loc[idx, "slope"] = -(u_bb_1 - u_bb_0) / (v_bb_1 - v_bb_0)
print(d4)


# Robertson 방법에 의한 CCT 계산 함수 정의
def CCT_Robertson_from_uv(u, v):
    inv_t = d4.index.to_numpy("float")  # 1E6/T
    u_t = d4["u"].to_numpy("float")  # u(T)
    v_t = d4["v"].to_numpy("float")  # v(T)
    m = d4["slope"].to_numpy("float")  # m(T) 법선의 기울기
    # 거리 계산
    d = ((v - v_t) - m * (u - u_t)) / np.sqrt(1 + m**2)
    # k 찾기
    for k in range(len(d) - 1):
        if d[k] / d[k + 1] < 0:
            break
    CCT = 1e6 / (inv_t[k] + d[k] / (d[k] - d[k + 1])
                 * (inv_t[k + 1] - inv_t[k]))
    # duv 계산
    a = (v_t[k + 1] - v_t[k]) / (u_t[k + 1] - u_t[k])
    Duv = (v - (a * (u - u_t[k]) + v_t[k])) / np.sqrt(1.0 + a**2)
    return CCT, Duv


# Robertson 방법에 의한 CCT 계산
CCT, Duv = CCT_Robertson_from_uv(u, v)
print(f"Robertson 방법에 의한 CCT = {CCT:6.1f} K, Duv = {Duv:6.4f}")


# 연습문제: 명목 색온도 6500 K의 백색 LED의 상관색온도와 Duv를 계산하라

# 명목 색온도 6500 K의 백색 LED의 분광분포 준비
S = d2["LED_W65"][w]
# 분광분포 플롯
S.plot(xlabel="파장 (nm)", ylabel="분광분포", marker=".", figsize=[5, 3])
plt.show()

# u, v 색좌표 계산
u, v = CIE1960uv_from_xy(*CIE1931xy(*tristimulus(S)))
print(f"CIE 1960 (u, v) = ({u:6.4f}, {v:6.4f})")

# Robertson 방법으로 CCT, Duv 계산
CCT, Duv = CCT_Robertson_from_uv(u, v)
print(f"Robertson 방법에 의한 CCT = {CCT:6.1f} K, Duv = {Duv:6.4f}")

# CIE 1960 색좌표계에 u,v 도시
show_CIE1960_CCT(u, v)


# 연습문제: CIE D65 표준광의 상관색온도와 Duv를 계산하라

# CIE D65 표준광의 분광분포 준비
S = d2["D65"][w]
# 분광분포 플롯
S.plot(xlabel="파장 (nm)", ylabel="분광분포", marker=".", figsize=[5, 3])
plt.show()

# u, v 색좌표 계산
u, v = CIE1960uv_from_xy(*CIE1931xy(*tristimulus(S)))
print(f"CIE 1960 (u, v) = ({u:6.4f}, {v:6.4f})")

# Robertson 방법으로 CCT, Duv 계산
CCT, Duv = CCT_Robertson_from_uv(u, v)
print(f"Robertson 방법에 의한 CCT = {CCT:6.1f} K, Duv = {Duv:6.4f}")

# CIE 1960 색좌표계에 u,v 도시
show_CIE1960_CCT(u, v)


# 표준색 시편의 분광반사율
d5 = pd.read_excel("CIE_data.xlsx", sheet_name="CRI_TCS",
                   index_col=0, header=2)
# 표준색 시편의 분광반사율 플롯
d5.plot(xlabel="파장(nm)", ylabel="분광반사율", figsize=[6, 4])
# 표준색 시편의 분광반사율 값 살펴보기
d5.head()


# 대상광 분광분포 준비
S_k = d2["LED_W65"][w]
# 대상광 분광분포 플롯
S_k.plot(xlabel="파장 (nm)", ylabel="분광분포", marker=".", figsize=[5, 3])
plt.show()


# 삼자극치 중 광조도 값에 해당하는 Y를 계산함.
_, Y_k, _ = tristimulus(S_k)
# 100 lx 가 되도록 정규화
S_k = 100 / Y_k * S_k


# 대상광의 u, v 색좌표 계산
u_k, v_k = CIE1960uv_from_xy(*CIE1931xy(*tristimulus(S_k)))
# 대상광의 u, v 색좌표 출력
print(f'({u_k:6.4f}, {v_k:6.4f})')


# 대상광의 상관색온도 계산
T_k, Duv_k = CCT_Robertson_from_uv(u_k, v_k)
# 대상광의 상관색온도 출력
print(f'T_k = {T_k:6.1f}, Duv_k = {Duv_k:6.4f}')


# CIE 주광 데이터 (S0, S1, S2) 읽어오기
d6 = pd.read_excel("CIE_data.xlsx", sheet_name="CIE_daylight", index_col=0)
# 주광의 분광분포를 만들어내는 함수 정의


def s_daylight(w, t):
    if t < 7000:
        # 온도가 4000 K ~ 7000 K 영역일 경우
        x = (
            -4.6070 * (1e9 / t**3)
            + 2.9678 * (1e6 / t**2)
            + 0.09911 * (1e3 / t)
            + 0.244063
        )
    else:
        # 온도가 7000 K ~ 25000 K 영역일 경우
        x = (
            -2.0064 * (1e9 / t**3)
            + 1.9018 * (1e6 / t**2)
            + 0.24748 * (1e3 / t)
            + 0.237040
        )
    y = -3.000 * (x**2) + 2.870 * x - 0.275
    m1 = (-1.3515 - 1.7703 * x + 5.9114 * y) / \
        (0.0241 + 0.2562 * x - 0.7341 * y)
    m2 = (0.0300 - 31.4424 * x + 30.0717 * y) / \
        (0.0241 + 0.2562 * x - 0.7341 * y)
    return d6.S0[w] + m1 * d6.S1[w] + m2 * d6.S2[w]


# 기준광 결정
if T_k < 5000:
    # 기준광은 흑체
    S_r = pd.Series(f_bb(w, T_k), index=w)
else:
    # 기준광은 daylight
    S_r = pd.Series(s_daylight(w, T_k), index=w)
# 기준광의 분광분포 플롯
S_r.plot(xlabel="파장 (nm)", ylabel="분광분포", marker=".", figsize=[5, 3])
plt.show()


# 삼자극치 중 광조도 값에 해당하는 Y를 계산함.
_, Y_r, _ = tristimulus(S_r)
# 100 lx 가 되도록 정규화
S_r = 100 / Y_r * S_r


# 기준광의 (u, v) 색좌표 계산
u_r, v_r = CIE1960uv_from_xy(*CIE1931xy(*tristimulus(S_r)))
# 기준광의 (u, v) 색좌표 출력
print(f'({u_r:6.4f}, {v_r:6.4f})')


# 기준광과 대상광의 u, v 색차 확인
Duv = np.sqrt((u_k-u_r)**2 + (v_k-v_r)**2)
# Duv 출력
print(f'Duv = {Duv:6.4f}')


# 색적응을 고려하기 위해 필요한 c, d 값 계산 함수
def cd_values(u, v):
    return 1 / v * (4 - u - 10 * v), 1 / v * (1.708 * v + 0.404 - 1.481 * u)

# 기준광과 대상광에 대한 c, d 값 계산
c_r, d_r = cd_values(u_r, v_r)
c_k, d_k = cd_values(u_k, v_k)

# (u_k, v_k)의 색적응된 색좌표 (up_k, vp_k)
up_k = (10.872 + 0.404 * c_r / c_k * c_k - 4 * d_r / d_k * d_k) / (
    16.518 + 1.481 * c_r / c_k * c_k - d_r / d_k * d_k
)
vp_k = 5.520 / (16.518 + 1.481 * c_r / c_k * c_k - d_r / d_k * d_k)

# (u_k, v_k)의 색적응된 색좌표 (up_k, vp_k)가 (u_r, v_r)과 동일한 지 확인
print(
    f"(u_k, v_k) = ({u_k:6.4f}, {v_k:6.4f}), \n\
(up_k, vp_k) = ({up_k:6.4f}, {vp_k:6.4f}), \n\
(u_r, v_r) = ({u_r:6.4f}, {v_r:6.4f})"
)


# 컬러 타일을 표현하기 위한 XYZ => sRGB 변환함수 정의
def XYZ2sRGB(XYZ):
    # sRGB 역감마 적용 함수
    def inv_gamma(x):
        x = min(x, 1)
        x = max(x, 0)
        return 12.92 * x if x <= 0.0031308 else 1.055 * x ** (1.0 / 2.4) - 0.055

    # XYZ -> RGB 변환 행렬
    inv_m = np.array(
        [
            [+3.2406, -1.5372, -0.4986],
            [-0.9689, +1.8758, +0.0415],
            [+0.0557, -0.2040, +1.0570],
        ]
    )
    return np.array(tuple(map(inv_gamma, inv_m @ XYZ)))


# 컬러 타일을 그리기 위한 그래프 설정
plt.figure(figsize=[10, 2])
plt.axes()
# 특수연색지수 Ri 값을 저장할 리스트 변수
R_i_list = []
idx = 0
for name, rho in d5.loc[w, :].items():
    # 대상광 조명하 색시편의 삼자극치 계산
    X_ki, Y_ki, Z_ki = tristimulus(rho * S_k)
    # 기준광 조명하 색시편의 삼자극치 계산
    X_ri, Y_ri, Z_ri = tristimulus(rho * S_r)
    # 대상광 조명하 색시편의 u, v 색좌표 계산
    u_ki, v_ki = CIE1960uv_from_xy(*CIE1931xy(X_ki, Y_ki, Z_ki))
    # 기준광 조명하 색시편의 u, v 색좌표 계산
    u_ri, v_ri = CIE1960uv_from_xy(*CIE1931xy(X_ri, Y_ri, Z_ri))
    # 대상광 조명하 색시편의 u, v 색좌표에 색적응 효과 적용
    c_ki, d_ki = cd_values(u_ki, v_ki)
    up_ki = (10.872 + 0.404 * c_r / c_k * c_ki - 4 * d_r / d_k * d_ki) / (
        16.518 + 1.481 * c_r / c_k * c_ki - d_r / d_k * d_ki
    )
    vp_ki = 5.520 / (16.518 + 1.481 * c_r / c_k * c_ki - d_r / d_k * d_ki)
    # 기준광 및 대상광 조명하 색시편의 CIE 1964(U*,V*,W*)색좌표 계산
    W_ri, W_ki = 25.0 * Y_ri ** (1.0 / 3.0) - \
        17, 25.0 * Y_ki ** (1.0 / 3.0) - 17
    U_ri, U_ki = 13.0 * W_ri * (u_ri - u_r), 13.0 * W_ki * (up_ki - up_k)
    V_ri, V_ki = 13.0 * W_ri * (v_ri - v_r), 13.0 * W_ki * (vp_ki - vp_k)
    # 색차계산
    DE_i = np.sqrt((W_ri - W_ki) ** 2 + (U_ri - U_ki)
                   ** 2 + (V_ri - V_ki) ** 2)
    # Ri 계산
    R_i = 100.0 - 4.6 * DE_i
    # Ri 배열에 추가
    R_i_list.append(R_i)

    # 컬러 타일 그리기
    RGB_k = XYZ2sRGB(np.array([X_ki, Y_ki, Z_ki]) / 100)  # 대상광의 RGB
    RGB_r = XYZ2sRGB(np.array([X_ri, Y_ri, Z_ri]) / 100)  # 기준광의 RGB
    # 대상광에 대한 컬러 타일 그리기
    plt.gca().add_patch(plt.Rectangle((idx * 1 + 0.5, 1 + 0.5), 0.9, 0.9, fc=RGB_k))
    # 기준광에 대한 컬러 타일 그리기
    plt.gca().add_patch(plt.Rectangle((idx * 1 + 0.5, 0 + 0.5), 0.9, 0.9, fc=RGB_r))
    # Ri 값 표시
    plt.text(idx * 1 + 0.6, 2.6, f"{R_i:4.1f}")
    idx += 1

plt.axis("scaled")
plt.xticks(range(1, 15 + 1))
plt.ylim([0.2, 3])
plt.xlabel("색시편 번호")
plt.yticks([1, 2, 2.7], labels=["기준광", "대상광", "$R_i$"])
plt.show()


# R1 ~ R8 까지의 평균
R_a = np.mean(R_i_list[:8])
# 일반 연색지수 출력
print(f"일반연색지수 Ra = {R_a:4.1f}")
