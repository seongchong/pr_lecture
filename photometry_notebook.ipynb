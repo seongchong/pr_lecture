{
 "cells": [
  {
   "cell_type": "markdown",
   "metadata": {},
   "source": [
    "* 사전 설치\n",
    "  * python 3 와 python 패키지 - pandas, matplotlib, numpy, scipy, ipykernel, openpyxl\n",
    "  * visual studio code와 visual studio code 확장 - python, pylance, jupyter\n",
    "  * KoPubWorld 글꼴\n",
    "* 본 교육자료 다운로드: https://github.com/seongchong/pr_lecture\n",
    "* 문의처: 박성종 spark@kriss.re.kr"
   ]
  },
  {
   "cell_type": "code",
   "execution_count": null,
   "metadata": {
    "editable": true,
    "execution": {
     "iopub.execute_input": "2024-08-27T15:57:50.750063Z",
     "iopub.status.busy": "2024-08-27T15:57:50.749100Z",
     "iopub.status.idle": "2024-08-27T15:57:52.269449Z",
     "shell.execute_reply": "2024-08-27T15:57:52.269449Z",
     "shell.execute_reply.started": "2024-08-27T15:57:50.750063Z"
    },
    "slideshow": {
     "slide_type": ""
    },
    "tags": []
   },
   "outputs": [],
   "source": [
    "# 패키지 불러오기\n",
    "import pandas as pd\n",
    "import matplotlib.pyplot as plt\n",
    "import numpy as np\n",
    "from scipy.interpolate import interp1d\n",
    "from scipy.optimize import curve_fit\n",
    "\n",
    "# matplotlib 글꼴 및 그림 해상도 설정\n",
    "plt.style.use(\"default\")\n",
    "plt.rcParams[\"font.family\"] = \"KoPubWorldDotum\"\n",
    "# KoPubWorld 폰트설치가 잘 안될 경우, 아래와 같이 맑은 고딕으로 설정\n",
    "# plt.rcParams[\"font.family\"] = \"Malgun Gothic\"\n",
    "plt.rcParams[\"axes.unicode_minus\"] = False\n",
    "plt.rcParams[\"figure.dpi\"] = 100\n",
    "\n",
    "# 상수 정의\n",
    "pi = np.pi  # 원주율\n",
    "c = 2.99792e8  # 진공 중 빛의 속력"
   ]
  },
  {
   "cell_type": "markdown",
   "metadata": {},
   "source": [
    "# 광측정(光測定, photometry)\n",
    "* 넓은 의미의 광측정 (optical measurement)\n",
    "  * `광학적 복사선(輻射線)` 전체를 대상으로 하는 모든 종류의 측정\n",
    "* 좁은 의미의 광측정 (photometry)\n",
    "  * `전체 광학적 복사선` 중 `가시광선`을 주 대상으로 하고, `인간의 시감`을 고려한 `밝기`에 관한 측정\n",
    "  * `광학적 복사선`에 대한 `복사측정`(optical radiometry)의 일부\n",
    "* 복사측정 (optical radiometry)\n",
    "  * `광학적 복사선`의 `일률`(복사선속, 단위:W) 및 그 파생량을 여러 `기하학적 조건`에서 측정하는 것을 가리킴.\n",
    "  * 전력, (광)출력, 일률, 복사선속은 모두 W 단위임에 주의할 것."
   ]
  },
  {
   "cell_type": "markdown",
   "metadata": {},
   "source": [
    "## 광학적 복사선의 분류\n",
    "|이름|파장범위|이름|파장범위|\n",
    "|:---:|:---:|:---:|:---:|\n",
    "|EUV |10 nm ~ 121 nm|NIR 근적외선| 780 nm ~ 1.4 μm|\n",
    "|UV-C |100 nm ~ 280 nm|SWIR 단파적외선 |1.4 μm ~ 3 μm|\n",
    "|UV-B|280 nm ~ 315 nm|MWIR 중파적외선| 3 μm ~ 8 μm|\n",
    "|UV-A|315 nm ~ 400 nm|LWIR 장파적외선| 8 μm ~ 15 μm|\n",
    "|`가시광선`|380 nm ~ 780 nm|FIR 원적외선| 15 μm ~ 1000 μm|"
   ]
  },
  {
   "cell_type": "markdown",
   "metadata": {},
   "source": [
    "## 칸델라(광도의 단위)의 정의\n",
    ">칸델라(기호: cd)는 어떤 주어진 방향에서 광도의 SI 단위이다. 칸델라는 주파수가 540 × 10<sup>12</sup> Hz인 단색광의 시감효능 _K_<sub>cd</sub>를 lm W<sup>–1</sup> 단위로 나타낼 때 그 수치를 683으로 고정함으로써 정의한다. 여기서 lm W<sup>–1</sup>은 cd sr W<sup>-1</sup> 또는 cd sr kg<sup>–1</sup> m<sup>–2</sup> s<sup>3</sup>과 같고, 킬로그램(기호: kg), 미터(기호: m)와 초(기호: s)는 _h_, _c_ 와 Δν<sub>Cs</sub>로부터 정의된다."
   ]
  },
  {
   "cell_type": "code",
   "execution_count": null,
   "metadata": {
    "execution": {
     "iopub.execute_input": "2024-08-27T15:57:52.269449Z",
     "iopub.status.busy": "2024-08-27T15:57:52.269449Z",
     "iopub.status.idle": "2024-08-27T15:57:52.277539Z",
     "shell.execute_reply": "2024-08-27T15:57:52.277539Z",
     "shell.execute_reply.started": "2024-08-27T15:57:52.269449Z"
    },
    "tags": []
   },
   "outputs": [],
   "source": [
    "# 연습 문제: 주파수가 540 THz인 단색광의 진공 중 파장은 얼마인가?\n",
    "# 참고: python에서 한글을 변수이름으로 사용할 수 있다.\n",
    "# 빛의 주파수, 빛의 속도\n",
    "주파수 = 540e12  # 단위: Hz\n",
    "# 빛의 파장\n",
    "파장 = c / 주파수  # 단위: m\n",
    "# 결과 출력\n",
    "print(\n",
    "    f\"주파수 {주파수 * 1E-12:4.1f} THz의 빛은 \\\n",
    "진공 중에서 파장이 {파장 * 1E9:6.2f} nm 이다.\"\n",
    ")"
   ]
  },
  {
   "cell_type": "markdown",
   "metadata": {},
   "source": [
    "* 즉, 555.17 nm 의 빛 1 W 의 복사선속이 광선속 683 lm 에 해당하는 것으로 정의됨.\n",
    "  * 555 nm의 빛 1 W 의 복사선속은 683.002 lm에 해당함 ($K_m = 683.002~\\textrm{lm/W}$)"
   ]
  },
  {
   "cell_type": "markdown",
   "metadata": {},
   "source": [
    "## 파장의 함수인 인간의 시감 효율\n",
    "* 밝은 빛에 대한 시감 (10 cd/m<sup>2</sup> ~ 10<sup>8</sup> cd/m<sup>2</sup>)\n",
    "  * 555 nm에서 최대 효능 $K_m = 683~\\textrm{lm/W}$을 갖고, $K_m V(\\lambda)$로 표현됨.\n",
    "* 어두운 빛에 대한 시감 (10<sup>-6</sup> cd/m<sup>2</sup> ~ 10<sup>-3</sup> cd/m<sup>2</sup>)\n",
    "  * 507 nm에서 최대 효능 $K'_m = 1700~\\textrm{lm/W}$을 갖고,  $K'_m V'(\\lambda)$로 표현됨.\n",
    "\n",
    "※ $V(\\lambda)$과 $V'(\\lambda)$ 각각은 국제조명위원회가 정한 각각 밝은 빛, 어두운 빛에 대한 상대 분광시감효율 함수임."
   ]
  },
  {
   "cell_type": "code",
   "execution_count": null,
   "metadata": {
    "execution": {
     "iopub.execute_input": "2024-08-27T15:57:52.277539Z",
     "iopub.status.busy": "2024-08-27T15:57:52.277539Z",
     "iopub.status.idle": "2024-08-27T15:57:53.049426Z",
     "shell.execute_reply": "2024-08-27T15:57:53.049426Z",
     "shell.execute_reply.started": "2024-08-27T15:57:52.277539Z"
    }
   },
   "outputs": [],
   "source": [
    "# 표준 관측자의 분광시감효율\n",
    "\n",
    "# 밝은 빛 시감의 상대분광시감효율 V(λ)를 불러오기\n",
    "d0 = pd.read_excel(\n",
    "    \"CIE_data.xlsx\",\n",
    "    sheet_name=\"CIE_V_lambda\",\n",
    "    index_col=0,\n",
    "    usecols=[0, 1],\n",
    "    names=[\"w\", \"V\"],\n",
    ")\n",
    "print(d0)\n",
    "\n",
    "# 밝은 빛 시감의 최대 분광 시감 효율\n",
    "K_m = 683.0  # 단위: lm/W\n",
    "# 밝은 빛 시감 분광시감효율 플롯팅\n",
    "(K_m * d0['V']).plot(marker=\".\")\n",
    "# V(λ) 내삽 함수 정의\n",
    "f_V = interp1d(d0.index, d0.V, fill_value=0, bounds_error=False, kind=\"cubic\")\n",
    "\n",
    "# 어두운 빛 시감의 상대분광시감효율 V'(λ)를 불러오기\n",
    "d1 = pd.read_excel(\n",
    "    \"CIE_data.xlsx\",\n",
    "    sheet_name=\"CIE_V_prime_lambda\",\n",
    "    index_col=0,\n",
    "    usecols=[0, 1],\n",
    "    names=[\"w\", \"V\"],\n",
    ")\n",
    "print(d1)\n",
    "\n",
    "# 어두운 빛 시감의 최대 분광 시감 효율\n",
    "K_m_prime = 1700.0  # 단위: lm/W\n",
    "# 밝은 빛 시감 분광시감효율 플롯팅\n",
    "(K_m_prime * d1.V).plot(\n",
    "    figsize=(5, 3),\n",
    "    xlim=(350, 800),\n",
    "    xlabel=\"파장 (nm)\",\n",
    "    ylabel=\"분광시감효율 (lm/W)\",\n",
    "    title=\"CIE 분광시감효율함수\",\n",
    "    marker=\".\",\n",
    ")\n",
    "# V'(λ) 내삽 함수 정의\n",
    "f_V_prime = interp1d(d1.index, d1.V, fill_value=0, bounds_error=False, kind=\"cubic\")\n",
    "# 범례 표시\n",
    "plt.legend(\n",
    "    [r\"밝은 빛 시감 $K_m V(\\lambda)$\", r\"어두운 빛 시감 $K_m^\\prime V^\\prime(\\lambda)$\"]\n",
    ")\n",
    "plt.show()"
   ]
  },
  {
   "cell_type": "code",
   "execution_count": null,
   "metadata": {
    "execution": {
     "iopub.execute_input": "2024-08-27T15:57:53.050934Z",
     "iopub.status.busy": "2024-08-27T15:57:53.050934Z",
     "iopub.status.idle": "2024-08-27T15:57:53.060862Z",
     "shell.execute_reply": "2024-08-27T15:57:53.060862Z",
     "shell.execute_reply.started": "2024-08-27T15:57:53.050934Z"
    },
    "tags": []
   },
   "outputs": [],
   "source": [
    "# 연습문제: 475 nm의 빛 0.1 mW은 밝은 빛 시감 기준과 어두운 시감 기준으로\n",
    "# 각각 몇 lm 인가?\n",
    "\n",
    "파장 = 475  # 475 nm\n",
    "복사선속 = 0.1e-3  # 0.1 mW\n",
    "밝은빛 = K_m * f_V(475) * 복사선속\n",
    "어두운빛 = K_m_prime * f_V_prime(475) * 복사선속\n",
    "print(\n",
    "    f\"파장 {파장} nm 의 {복사선속:4.2e} W 은 밝은 빛 시감으로 \\\n",
    "{밝은빛:4.2e} lm,\\n어두운 빛 시감으로 {어두운빛:4.2e} lm 이다.\"\n",
    ")"
   ]
  },
  {
   "cell_type": "markdown",
   "metadata": {},
   "source": [
    "## 분광복사측정량, 복사측정량, 광측정량 사이의 관계\n",
    "임의의 분광복사측정량 $S(\\lambda)$에 대해\n",
    "\n",
    "* 복사측정량: $S(\\lambda)$의 $\\lambda$ 에 관한 적분\n",
    "$$S_e = \\int_{380~\\textrm{nm}}^{780~\\textrm{nm}} S(\\lambda) d\\lambda$$ \n",
    "  \n",
    "* 광측정량: $S(\\lambda)$를 $V(\\lambda)$로 가중한 $\\lambda$ 에 관한 적분\n",
    "$$S_v = K_m \\int_{380~\\textrm{nm}}^{780~\\textrm{nm}} S(\\lambda) V(\\lambda) d\\lambda$$\n",
    "\n",
    "* 관례적으로 첨자 $e$는 복사측정량을, 첨자 $v$는 광측정량을, 첨자가 없으면 분광복사측정량을 의미함.\n",
    "* 분광복사측정량은 기하학적인 조건에 따라,\n",
    "  * 분광복사선속 (W nm<sup>-1</sup>), 분광복사도(W sr<sup>-1</sup> nm<sup>-1</sup>), 분광복사휘도 (W m<sup>-2</sup> sr<sup>-1</sup> nm<sup>-1</sup>), 분광복사조도 (W m<sup>-2</sup> nm<sup>-1</sup>) 등"
   ]
  },
  {
   "cell_type": "code",
   "execution_count": null,
   "metadata": {
    "execution": {
     "iopub.execute_input": "2024-08-27T15:57:53.060862Z",
     "iopub.status.busy": "2024-08-27T15:57:53.060862Z",
     "iopub.status.idle": "2024-08-27T15:57:53.929101Z",
     "shell.execute_reply": "2024-08-27T15:57:53.927734Z",
     "shell.execute_reply.started": "2024-08-27T15:57:53.060862Z"
    },
    "tags": []
   },
   "outputs": [],
   "source": [
    "# LED R/G/B에 대한 복사측정량과 광측정량 계산\n",
    "\n",
    "# 스펙트럼 데이터 불러오기\n",
    "d2 = pd.read_excel(\"CIE_data.xlsx\", sheet_name=\"SPD\", index_col=0)\n",
    "# 편의상 모두 복사선속이 100 W가 되도록 정규화 함.\n",
    "d2 = d2 / d2.sum() * 100\n",
    "# 파장 데이터 정의\n",
    "dw = 5  # 파장간격 5 nm\n",
    "# 파장 배열: 380, 385, ..., 780\n",
    "w = np.arange(380, 780 + dw, dw)\n",
    "# 상대분광시감효율 V(λ)\n",
    "V = d0.V[w]\n",
    "# 그래프 설정\n",
    "fig, axes = plt.subplots(nrows=1, ncols=3)\n",
    "for idx, S in enumerate([d2.LED_R[w], d2.LED_G[w], d2.LED_B[w]]):\n",
    "    # S(λ) 플롯\n",
    "    S.plot(ax=axes[idx], kind=\"area\", stacked=False)\n",
    "    # S(λ)V(λ) 플롯\n",
    "    (S * V).plot(ax=axes[idx], secondary_y=False, kind=\"area\", stacked=False)\n",
    "    # V(λ) 플롯\n",
    "    V.plot(\n",
    "        ax=axes[idx],\n",
    "        figsize=(9, 3),\n",
    "        xlim=(350, 800),\n",
    "        xlabel=\"파장 (nm)\",\n",
    "        secondary_y=True,\n",
    "    )\n",
    "    # 범례 표시\n",
    "    lines = axes[idx].get_lines() + axes[idx].right_ax.get_lines()\n",
    "    axes[idx].legend(\n",
    "        lines, [r\"$S(\\lambda)$\", r\"$S(\\lambda)V(\\lambda)$\", r\"$V(\\lambda)$\"]\n",
    "    )\n",
    "    # 제목표시\n",
    "    axes[idx].set_title(S.name)\n",
    "    # 광측정량 계산\n",
    "    f_e = S.sum() * dw\n",
    "    # 복사측정량 계산\n",
    "    f_v = (S * V).sum() * dw * K_m\n",
    "    # 광측정량, 복사측정량 출력\n",
    "    print(\n",
    "        f\"{idx} - 광원: {S.name}, \\\n",
    "복사측정량: {f_e:4.2f}, 광측정량: {f_v:4.2f}\"\n",
    "    )\n",
    "plt.tight_layout()\n",
    "plt.show()"
   ]
  },
  {
   "cell_type": "markdown",
   "metadata": {},
   "source": [
    "## 복사선속과 광선속\n",
    "* 복사선속 (radiant flux)\n",
    "  * 광학적 일률(W = J/s)의 다른 이름으로 단위시간 당 전달되는 광학적 복사에너지를 나타냄.  \n",
    "  * 복사선속에 기하학적 조건이 부여됨에 따라 복사조도, 복사도, 복사휘도, 전복사선속 등이 파생됨.\n",
    "  * 관례적으로 기호 $\\Phi_e$로 나타냄 (첨자가 없는 $\\Phi$는 분광복사선속을 나타냄)\n",
    "* 광선속 (luminous flux)\n",
    "  * 복사선속에 대응되는 광측정량으로 단위시간 당 전달되는 밝기 자극을 나타냄.\n",
    "  * 광선속에 기하학적 조건이 부여됨에 따라 광조도, 광도, 광휘도, 전광선속 등이 파생됨.\n",
    "  * 관례적으로 관례적으로 기호 $\\Phi_v$로 나타냄."
   ]
  },
  {
   "cell_type": "markdown",
   "metadata": {},
   "source": [
    "## 광조도 (illuminance)\n",
    "* `어떤 위치`의 단위면적으로 입사하는 광선속 (단위: lm/m<sup>2</sup>, lx)\n",
    "$$E_v = {d\\Phi_v \\over dA}$$ \n",
    "<img src=\"그림_광조도의_기하학적_조건.png\" width=\"400px\" title=\"광조도의 기하학적 조건\" alt=\"광조도의 기하학적 조건\"></img>\n",
    "* 광원의 특성이 아니기 때문에 광도, 광휘도, 전광선속과 같은 불변량이 아님.\n",
    "* 검출기 기반 표준 소급체계 (단위유도 체계)에서 가장 근간이 되는 측정량임. "
   ]
  },
  {
   "cell_type": "code",
   "execution_count": null,
   "metadata": {
    "execution": {
     "iopub.execute_input": "2024-08-27T15:57:53.932888Z",
     "iopub.status.busy": "2024-08-27T15:57:53.932888Z",
     "iopub.status.idle": "2024-08-27T15:57:53.941368Z",
     "shell.execute_reply": "2024-08-27T15:57:53.939650Z",
     "shell.execute_reply.started": "2024-08-27T15:57:53.932888Z"
    }
   },
   "outputs": [],
   "source": [
    "# 연습문제: 직경 1 cm의 원형 센서 633 nm의 빛 1 mW 가 입사되고 있을 때의\n",
    "# 센서면에서의 광조도는?\n",
    "\n",
    "파장 = 633  # 633 nm\n",
    "복사선속 = 1e-3  # 1 mW\n",
    "광선속 = K_m * f_V(633) * 복사선속\n",
    "직경 = 1e-2  # 1 cm\n",
    "면적 = pi * (직경 / 2) ** 2\n",
    "광조도 = 광선속 / 면적\n",
    "print(f\"광조도 =  {광조도:4.2e} lx\")"
   ]
  },
  {
   "cell_type": "markdown",
   "metadata": {},
   "source": [
    "## 광조도의 코사인 (cosine) 응답성\n",
    "$$E_\\theta = E_0 \\cos\\theta$$\n",
    "<img src=\"그림_광조도의_코사인_응답성.png\" width=\"400px\" title=\"광조도의 코사인 응답성\" alt=\"광조도의 코사인 응답성\"></img>\n",
    "\n",
    "* 입사광과 측정면의 법선이 이루는 각에 따라서 광조도 값은 $\\cos\\theta$를 따름.\n",
    "* 그러나 실제 광조도 센서는 이러한 코사인 응답성을 거의 보장하지 못함 (Fresnel 반사 효과 등으로 인해) \n",
    "  * 확산판과 적분구 등을 이용하여 코사인 응답성을 근사적으로 구현할 수 있음."
   ]
  },
  {
   "cell_type": "code",
   "execution_count": null,
   "metadata": {
    "execution": {
     "iopub.execute_input": "2024-08-27T15:57:53.943383Z",
     "iopub.status.busy": "2024-08-27T15:57:53.942377Z",
     "iopub.status.idle": "2024-08-27T15:57:53.950270Z",
     "shell.execute_reply": "2024-08-27T15:57:53.949859Z",
     "shell.execute_reply.started": "2024-08-27T15:57:53.943383Z"
    },
    "tags": []
   },
   "outputs": [],
   "source": [
    "# 연습문제: 수직면에서 100 lx의 광조도를 형성했다면\n",
    "# 수직에서 30°만큼 기울어진 면에서의 형성되는 광조도는?\n",
    "\n",
    "광조도_0 = 100  # 100 lx\n",
    "입사각 = 30 * pi / 180  # 30°의 래디안 값\n",
    "광조도_30 = 100 * np.cos(입사각)\n",
    "print(f\"30°에서의 광조도 {광조도_30:3.1f} lx\")"
   ]
  },
  {
   "cell_type": "markdown",
   "metadata": {},
   "source": [
    "## 프레넬 (Fresnel) 반사 공식 \n",
    "* 굴절율이 다른 두 매질의 경계에서 일어나는 빛의 반사를 기술함.\n",
    "* s-편광과 p-편광에 대해, 입사각과 굴절율에 따른 반사율은\n",
    "$$ R_s = \\left| {n_i \\cos\\theta_i - n_t \\cos\\theta_t \\over n_i \\cos\\theta_i + n_t \\cos\\theta_t} \\right|^2,~R_p = \\left| {n_t \\cos\\theta_i - n_i \\cos\\theta_t \\over n_t \\cos\\theta_i + n_i \\cos\\theta_t} \\right|^2$$\n",
    "* 여기서, $\\theta_i$와 $\\theta_t$는 스넬 (Snell)의 법칙에 따라\n",
    "$$n_i \\sin\\theta_i = n_t \\sin\\theta_t$$\n",
    "* $n_i$와 $n_t$는 복소수 굴절율로 일반화될 수 있음."
   ]
  },
  {
   "cell_type": "code",
   "execution_count": null,
   "metadata": {
    "execution": {
     "iopub.execute_input": "2024-08-27T15:57:53.951924Z",
     "iopub.status.busy": "2024-08-27T15:57:53.951924Z",
     "iopub.status.idle": "2024-08-27T15:57:53.966026Z",
     "shell.execute_reply": "2024-08-27T15:57:53.965017Z",
     "shell.execute_reply.started": "2024-08-27T15:57:53.951924Z"
    },
    "tags": []
   },
   "outputs": [],
   "source": [
    "# 연습문제: 공기와 색필터의 굴절율이 각각 1.00, 1.54+0.91j (500 nm) 일 때,\n",
    "# 경계면에서의 입사각 0° ~ 90°의 반사율은?\n",
    "\n",
    "\n",
    "# 프레넬 반사율 계산 함수 정의\n",
    "def fresnel_reflectance(x_i, n_i, n_t):\n",
    "    x_t = np.arcsin(n_i * np.sin(x_i) / n_t)\n",
    "    # s 편광의 Fresnel 반사계수\n",
    "    r_s = (n_i * np.cos(x_i) - n_t * np.cos(x_t)) / (\n",
    "        n_i * np.cos(x_i) + n_t * np.cos(x_t)\n",
    "    )\n",
    "    # p 편광의 Fresnel 반사계수\n",
    "    r_p = (n_t * np.cos(x_i) - n_i * np.cos(x_t)) / (\n",
    "        n_t * np.cos(x_i) + n_i * np.cos(x_t)\n",
    "    )\n",
    "    # s 편광의 Fresnel 반사율\n",
    "    R_s = np.real(np.conj(r_s) * r_s)\n",
    "    # p 편광의 Fresnel 반사율\n",
    "    R_p = np.real(np.conj(r_p) * r_p)\n",
    "    return R_s, R_p\n",
    "\n",
    "\n",
    "n_i = 1.00  # 공기의 굴절율\n",
    "n_t = 1.54 + 0.91j  # 색필터의 굴절율 (HOYA G533)\n",
    "for ang in range(0, 90 + 15, 15):\n",
    "    x_i = ang * pi / 180  # degree -> radian\n",
    "    R_s, R_p = fresnel_reflectance(x_i, n_i, n_t)\n",
    "    print(\n",
    "        f\"{ang:2d}°: s-편광 반사율 {R_s:5.3f}, \\\n",
    "p-편광 반사율 {R_p:5.3f}, 평균 반사율 {(R_p + R_s)/2:5.3f}\"\n",
    "    )"
   ]
  },
  {
   "cell_type": "code",
   "execution_count": null,
   "metadata": {
    "execution": {
     "iopub.execute_input": "2024-08-27T15:57:53.968026Z",
     "iopub.status.busy": "2024-08-27T15:57:53.968026Z",
     "iopub.status.idle": "2024-08-27T15:57:53.978057Z",
     "shell.execute_reply": "2024-08-27T15:57:53.977047Z",
     "shell.execute_reply.started": "2024-08-27T15:57:53.968026Z"
    },
    "tags": []
   },
   "outputs": [],
   "source": [
    "# 연습문제: 공기와 Si의 굴절율이 각각 1.00, 4.32 (500 nm) 일 때,\n",
    "# 경계면에서의 입사각 0° ~ 90°의 반사율은?\n",
    "\n",
    "n_i = 1.00  # 공기의 굴절율\n",
    "n_t = 4.32  # Si의 굴절율\n",
    "for ang in range(0, 90 + 15, 15):\n",
    "    x_i = ang * pi / 180\n",
    "    R_s, R_p = fresnel_reflectance(x_i, n_i, n_t)\n",
    "    print(\n",
    "        f\"{ang:2d}°: s-편광 반사율 {R_s:5.3f}, \\\n",
    "p-편광 반사율 {R_p:5.3f}, 평균 반사율 {(R_p + R_s)/2:5.3f}\"\n",
    "    )"
   ]
  },
  {
   "cell_type": "markdown",
   "metadata": {},
   "source": [
    "## 일반적인 광조도 센서의 구성\n",
    "* 코사인 응답기 (확산판이나 적분구) + $V(\\lambda)$ 정합필터 (색유리나 다층박막) + Si 광 다이오드\n",
    "* 코사인 응답기가 없는 경우도 있음. \n",
    "  * 광도(luminous intensity)를 측정하기 위한 장치에 사용될 경우\n",
    "  * 그 외의 경우, 코사인 응답기가 없으면 매우 큰 광조도 측정오차가 발생함 (왜? 대부분의 경우 확산 조명이므로).\n",
    "* 코사인 응답기의 영향\n",
    "  * 광조도 기준면이 모호해짐.\n",
    "    * 광도 표준전구와 같이 광원 기준면이 알려진 광원으로 광조도계의 기준면을 알아낼 수 있음.\n",
    "  * 광조도계 교정 시 엄격한 잡광 관리가 필요로 함.\n",
    "\n",
    "<img src=\"그림_광조도계의_각도_응답.png\" width=\"400px\" title=\"광조도계의 각도 응답\" alt=\"광조도계의 각도 응답\"></img>"
   ]
  },
  {
   "cell_type": "markdown",
   "metadata": {},
   "source": [
    "## 광조도 측정 시 유의 사항\n",
    "* 측정면을 광조도계의 기준면에 일치시킴. (위치 및 각도 정렬 필요)\n",
    "* 광원에 너무 가까이 붙지 않는 것이 좋음. (반사 효과의 회피)\n",
    "* 차광판 등을 적절히 활용하여 잡광을 차단시킴.\n",
    "* 간접 조명과 같은 확산광의 측정 시, 코사인 응답기가 있는 광조도계를 사용함."
   ]
  },
  {
   "cell_type": "markdown",
   "metadata": {},
   "source": [
    "## 광도 (luminous intensity)\n",
    "* `광원`이 (지정된 방향의) 단위 입체각으로 발산하는 광선속 (단위: lm/sr, cd)\n",
    "$$ I_v = {d\\Phi_v \\over d\\Omega} $$\n",
    "<img src=\"그림_광도의_기하학적_조건.png\" width=\"500px\" title=\"광도의 기하학적 조건\" alt=\"광도의 기하학적 조건\"></img>\n",
    "* 광조도 기준 위치에서 광조도 _E_<sub>v</sub> 와 입체각 dΩ\n",
    "$$ E_v = {d\\Phi_v \\over dA},~d\\Omega = {dA \\over r^2} $$\n",
    "* 광도와 광조도와의 관계\n",
    "$$ I_v = {d\\Phi_v \\over d\\Omega} = {d\\Phi_v \\over dA} r^2 = E_v r^2 $$\n",
    "* 원칙적으로 `광도`는 `점광원`으로 근사가 가능할 경우(`거리 조건`) 정의됨.\n",
    "* 7 가지 SI 단위 중 하나 (칸델라): 광 관련 측정에서의 상징성\n",
    "* 대표적인 `광원`의 특성 (_cf_. 이 밖의 광원의 특성: 광도, 광휘도, 전광선속 등)"
   ]
  },
  {
   "cell_type": "code",
   "execution_count": null,
   "metadata": {
    "execution": {
     "iopub.execute_input": "2024-08-27T15:57:53.980057Z",
     "iopub.status.busy": "2024-08-27T15:57:53.979059Z",
     "iopub.status.idle": "2024-08-27T15:57:53.998386Z",
     "shell.execute_reply": "2024-08-27T15:57:53.997371Z",
     "shell.execute_reply.started": "2024-08-27T15:57:53.980057Z"
    },
    "tags": []
   },
   "outputs": [],
   "source": [
    "# 연습문제: 1000 cd 의 광도를 갖는 전구가 10 m 앞에 형성하는 광조도 값은?\n",
    "# 단, 전구의 크기는 충분히 작다.\n",
    "\n",
    "광도 = 1000  # 1000 cd\n",
    "거리 = 10  # 10 m\n",
    "광조도 = 광도 / 거리**2\n",
    "print(f\"{광도} cd 의 전구는 {거리} m 앞에 {광조도:5.1f} lx 의 광조도를 만든다.\")"
   ]
  },
  {
   "cell_type": "markdown",
   "metadata": {},
   "source": [
    "## 광조도 생성 방법\n",
    "* $E_v = I_v/r^2$ 공식에 따라 $r$을 측정하고, 광도 값을 알고 있는 광도 표준전구 $I_v$ 값을 이용하여 원하는 수준의 광조도를 생성함.\n",
    "* 거리측정과 정렬이 중요함.\n",
    "\n",
    "<img src=\"그림_광조도_생성_방법.png\" width=\"500px\" title=\"광조도 생성 방법\" alt=\"광조도 생성 방법\"></img>"
   ]
  },
  {
   "cell_type": "markdown",
   "metadata": {},
   "source": [
    "## 광도 일차 표준\n",
    "* 한국표준과학연구원을 비롯한 대부분의 국가의 표준기관은 광검출기 기반 광도 눈금 확립방법을 따름.\n",
    "  * 극저온 복사계 (W) → 분광감응도 (A/W) → 광선속 감응도 (A/lm) → 광조도 감응도 (A/lx) → 광조도 (lx) → 광도 (cd) \n",
    "  * 즉, $I_v = E_v r^2$ 관계식에 따라 광조도 측정과 길이 측정을 통해 광도 눈금을 만들어냄.\n",
    "\n",
    "<img src=\"그림_광도_눈금_유도.png\" width=\"500px\" title=\"광도 눈금 유도\" alt=\"광도 눈금 유도\"></img>\n"
   ]
  },
  {
   "cell_type": "markdown",
   "metadata": {},
   "source": [
    "## 광도 표준전구의 광도 값 결정\n",
    "<img src=\"그림_광도_표준전구_교정.png\" width=\"500px\" title=\"광도 표준전구 교정\" alt=\"광도 표준전구 교정\"></img>\n",
    "* 광원 기준위치는 기준위치 지시용 “지그(jig)”와 일정한 차이($\\delta$)가 있을 수 있음.\n",
    "* $r$이 \"지그\"와 광조도계 기준 위치간의 거리라고 하면, 광도는 다음으로 표현됨.\n",
    "$$ I_v = E_v (r + \\delta)^2 $$\n",
    "* 따라서, 충분히 멀리 떨어진 여러 $r$ 위치에서 $E_v$ 를 측정하고, 그 데이터를 위 식에 곡선 맞춤(curve fitting)하면, $I_v$와 $\\delta$를 얻을 수 있음\n",
    "  * 광도 표준전구는 동작 전류와 광도 값, 거리 지그로부터의 거리 옵셋이 보고됨."
   ]
  },
  {
   "cell_type": "code",
   "execution_count": null,
   "metadata": {
    "execution": {
     "iopub.execute_input": "2024-08-27T15:57:54.002013Z",
     "iopub.status.busy": "2024-08-27T15:57:54.000001Z",
     "iopub.status.idle": "2024-08-27T15:57:54.205330Z",
     "shell.execute_reply": "2024-08-27T15:57:54.204306Z",
     "shell.execute_reply.started": "2024-08-27T15:57:54.002013Z"
    },
    "tags": []
   },
   "outputs": [],
   "source": [
    "# 연습문제: 다음은 실제 광도표준전구를 점등하여 여러 위치에서 측정한\n",
    "# 광조도 값이다. 광도와 거리옵셋을 구하라.\n",
    "# (거리에 0.005 m 만큼 추가 했을 때 계산값이 어떻게 변하는지 확인)\n",
    "\n",
    "거리 = np.array([0.6744, 0.8407, 1.0162, 1.1968, 1.4424])  # 단위: m\n",
    "광조도 = np.array([2326, 1494, 1023, 736.9, 507.2])  # 단위: lx\n",
    "\n",
    "\n",
    "# 모델 함수 f_Ev = Iv/(r+delta)^2\n",
    "def f_Ev(r, Iv, delta):\n",
    "    return Iv / (r + delta) ** 2\n",
    "\n",
    "\n",
    "# fitting\n",
    "(광도, 옵셋), _ = curve_fit(\n",
    "    f_Ev, 거리, 광조도, method=\"lm\", p0=[광조도[-1] * 거리[-1] ** 2, 0]\n",
    ")\n",
    "\n",
    "# 결과 출력\n",
    "print(f\"광도 {광도:4.0f} cd, 거리 옵셋 {옵셋*1000:3.1f} mm\")\n",
    "# 그림으로 도식화\n",
    "plt.figure(figsize=[5, 3])\n",
    "plt.scatter(거리, 광조도, marker=\"o\")\n",
    "x = np.linspace(거리[0], 거리[-1], 500)\n",
    "plt.plot(\n",
    "    x,\n",
    "    f_Ev(x, 광도, 옵셋),\n",
    ")\n",
    "plt.xlabel(\"거리 (m)\")\n",
    "plt.ylabel(\"광조도 (lx)\")\n",
    "plt.legend([\"측정값\", \"fitting\"])\n",
    "plt.show()"
   ]
  },
  {
   "cell_type": "markdown",
   "metadata": {},
   "source": [
    "## 광휘도 (luminance)\n",
    "* `광원`의 단위면적(사영된)이 단위입체각으로 발산하는 광선속 (단위: lm/m<sup>2</sup>sr, cd/m<sup>2</sup>, nt)\n",
    "\n",
    "$$ L_v = {d^2 \\Phi_v \\over d\\Omega dA \\cos\\theta} $$\n",
    "\n",
    "<img src=\"그림_광휘도의_기하학적_조건.png\" width=\"500px\" title=\"광휘도의 기하학적 조건\" alt=\"광휘도의 기하학적 조건\"></img>\n",
    "* 휘도 보존의 법칙: 빛살은 새로 생성되거나 소멸되지 않음 (에너지 보존).\n",
    "* 인간의 눈이 감지하는 빛 자극과 직접 관련됨."
   ]
  },
  {
   "cell_type": "markdown",
   "metadata": {},
   "source": [
    "## 람베르트 (Lambertian) 광원\n",
    "* 광휘도가 각도에 따라서 변하지 않고 일정한 광원: 결과적으로, $I_v(\\theta) \\propto \\cos\\theta$\n",
    "* 예) 적분구 광원이나 오팔유리와 균일한 조명의 조합으로 만들어진 광원"
   ]
  },
  {
   "cell_type": "markdown",
   "metadata": {},
   "source": [
    "연습문제: 광휘도가 $L$ 면적이 $A$ 인 람베르트 광원이 내어놓는 전체 광선속 $\\Phi$은?\n",
    "> 람베르트 광원은 각도, 위치에 무관하게 상수 $L$의 광휘도 값을 갖는다.\n",
    "> \n",
    "> 광휘도의 정의에 따라, $$\\Phi = \\int\\int L \\cos\\theta dA d\\Omega  = L \\int dA \\int \\cos\\theta d\\Omega  = LA \\int \\cos\\theta d\\Omega $$\n",
    "> \n",
    "> 여기서, 입체각의 적분은\n",
    "> \n",
    "> $$ \\int \\cos\\theta d\\Omega = 2\\pi \\int_0^{\\pi/2} \\cos\\theta \\sin\\theta d\\theta = \\pi \\int_0^{\\pi/2} \\sin 2\\theta d\\theta = \\pi $$\n",
    "> \n",
    "> 따라서, $\\Phi = \\pi LA$"
   ]
  },
  {
   "cell_type": "code",
   "execution_count": null,
   "metadata": {
    "execution": {
     "iopub.execute_input": "2024-08-27T15:57:54.207316Z",
     "iopub.status.busy": "2024-08-27T15:57:54.206317Z",
     "iopub.status.idle": "2024-08-27T15:57:54.214903Z",
     "shell.execute_reply": "2024-08-27T15:57:54.213362Z",
     "shell.execute_reply.started": "2024-08-27T15:57:54.207316Z"
    }
   },
   "outputs": [],
   "source": [
    "# 300 cd/m^2 광휘도를 내는 600 mm x 350 mm의 디스플레이 패널의\n",
    "# 전체 광선속은 얼마인가? (람베르트 광원 근사)\n",
    "\n",
    "광휘도 = 300\n",
    "면적 = 600e-3 * 350e-3\n",
    "광선속 = pi * 광휘도 * 면적\n",
    "print(f\"광선속: {광선속:5.1f} lm\")"
   ]
  },
  {
   "cell_type": "markdown",
   "metadata": {},
   "source": [
    "## 람베르트 광원 원반의 광휘도와 검출 원반의 광조도 사이의 관계\n",
    "<img src=\"그림_두원반의_광휘도_광조도_관계.png\" width=\"400px\" title=\"두 원반의 광휘도 광조도 관계\" alt=\"두 원반의 광휘도 광조도 관계\"></img>\n",
    "$$E_d = {L_s A_s \\over d^2} \\left[{d^2 \\left(r_s^2 + r_d^2 + d^2 - \\sqrt{(r_s^2 + r_d^2 + d^2)^2 -4r_d^2 r_s^2}\\right) \\over 2 r_d^2 r_s^2} \\right]$$"
   ]
  },
  {
   "cell_type": "markdown",
   "metadata": {},
   "source": [
    "연습문제: 아래와 같이 광조도계를 설계하였다. \n",
    "* 확산판은 람베르트 투과특성을 갖고, \n",
    "* 확산판(Edmund 34441), \n",
    "* 색필터1(Edmund 34453), \n",
    "* 색필터2(Edmund 15709)의 분광투과율과 \n",
    "* Si 광다이오드(Thorlabs SM05PD1A)의 분광감응도가 아래와 같이 주어질 때, \n",
    "1. CIE A 표준광 100 lx 입사 시 Si 광다이오드의 출력전류를 계산하라.\n",
    "2. CIE D65 표준광 100 lx 입사 시 Si 광다이오드의 출력전류를 계산하라.\n",
    "\n",
    "<img src=\"그림_광조도계.png\" width=\"400px\" title=\"광조도계\" alt=\"광조도계\"></img>"
   ]
  },
  {
   "cell_type": "code",
   "execution_count": null,
   "metadata": {
    "execution": {
     "iopub.execute_input": "2024-08-27T15:57:54.216897Z",
     "iopub.status.busy": "2024-08-27T15:57:54.215895Z",
     "iopub.status.idle": "2024-08-27T15:57:54.438537Z",
     "shell.execute_reply": "2024-08-27T15:57:54.436010Z",
     "shell.execute_reply.started": "2024-08-27T15:57:54.216897Z"
    },
    "tags": []
   },
   "outputs": [],
   "source": [
    "# 광조도계를 구성하는 요소의 광학적 특성 데이터 불러오기\n",
    "# 확산판, 색필터 1, 색필터2의 분광투광율, Si 광다이오드의 분광감응도\n",
    "dat = pd.read_excel(\"illuminance_meter.xlsx\", index_col=0)\n",
    "\n",
    "# 데이터 보여주기\n",
    "print(dat.head())\n",
    "\n",
    "# 데이터 플롯\n",
    "dat.loc[:, [\"diffuser\", \"filter1\", \"filter2\"]].plot(figsize=[4.2, 3], xlabel=\"파장(nm)\")\n",
    "plt.ylabel(\"분광투과율\")\n",
    "dat[\"PD\"].plot(secondary_y=True, xlabel=\"파장(nm)\")\n",
    "plt.ylabel(\"분광감응도(A/W)\")\n",
    "plt.legend()\n",
    "plt.show()"
   ]
  },
  {
   "cell_type": "code",
   "execution_count": null,
   "metadata": {
    "execution": {
     "iopub.execute_input": "2024-08-27T15:57:54.440754Z",
     "iopub.status.busy": "2024-08-27T15:57:54.439750Z",
     "iopub.status.idle": "2024-08-27T15:57:54.591519Z",
     "shell.execute_reply": "2024-08-27T15:57:54.590229Z",
     "shell.execute_reply.started": "2024-08-27T15:57:54.440754Z"
    },
    "tags": []
   },
   "outputs": [],
   "source": [
    "# 상대분광감응도 계산 및 플롯\n",
    "plt.figure(figsize=[5, 3])\n",
    "plt.plot(dat.index, f_V(dat.index), label=r\"CIE 1924 V($\\lambda$)\")\n",
    "s_rel = dat[\"diffuser\"] * dat[\"filter1\"] * dat[\"filter2\"] * dat[\"PD\"]\n",
    "s_rel /= s_rel.max()\n",
    "plt.plot(dat.index, s_rel, label=r\"상대분광감응도\")\n",
    "plt.xlabel(\"파장(nm)\")\n",
    "plt.ylabel(\"상대분광감응도\")\n",
    "plt.legend()\n",
    "plt.show()"
   ]
  },
  {
   "cell_type": "code",
   "execution_count": null,
   "metadata": {
    "execution": {
     "iopub.execute_input": "2024-08-27T15:57:54.593536Z",
     "iopub.status.busy": "2024-08-27T15:57:54.592532Z",
     "iopub.status.idle": "2024-08-27T15:57:54.739850Z",
     "shell.execute_reply": "2024-08-27T15:57:54.739094Z",
     "shell.execute_reply.started": "2024-08-27T15:57:54.593536Z"
    },
    "tags": []
   },
   "outputs": [],
   "source": [
    "# CIE A 표준광의 분광분포 함수 정의\n",
    "f_A = (\n",
    "    lambda w: 100\n",
    "    * (560 / w) ** 5\n",
    "    * (np.exp(1.435e7 / (2848 * 560)) - 1)\n",
    "    / (np.exp(1.435e7 / (2848 * w)) - 1)\n",
    ")\n",
    "# CIE A 표준광\n",
    "Sa = f_A(dat.index)\n",
    "# 색온도 6500 K의 백색 LED\n",
    "Sb = d2.LED_W65.reindex(dat.index, fill_value=0)\n",
    "\n",
    "# CIE A 표준광 100 lx의 분광복사조도\n",
    "Ea = 100 / np.sum(K_m * Sa * f_V(dat.index) * 5) * Sa  # W/m^2nm\n",
    "\n",
    "# C색온도 6500 K의 백색 LED 100 lx의 분광복사조도\n",
    "Eb = 100 / np.sum(K_m * Sb * f_V(dat.index) * 5) * Sb  # W/m^2nm\n",
    "plt.figure(figsize=[5, 3])\n",
    "plt.plot(dat.index, Ea)\n",
    "plt.plot(dat.index, Eb)\n",
    "plt.xlabel(\"파장(nm)\")\n",
    "plt.ylabel(r\"분광복사조도($\\mathrm{W/m^2nm}$)\")\n",
    "plt.show()\n",
    "# 광조도값 확인\n",
    "Ea_v = np.sum(K_m * Ea * f_V(dat.index) * 5)\n",
    "Eb_v = np.sum(K_m * Eb * f_V(dat.index) * 5)\n",
    "Ea_v, Eb_v"
   ]
  },
  {
   "cell_type": "code",
   "execution_count": null,
   "metadata": {
    "execution": {
     "iopub.execute_input": "2024-08-27T15:57:54.742431Z",
     "iopub.status.busy": "2024-08-27T15:57:54.741398Z",
     "iopub.status.idle": "2024-08-27T15:57:54.755114Z",
     "shell.execute_reply": "2024-08-27T15:57:54.755114Z",
     "shell.execute_reply.started": "2024-08-27T15:57:54.742431Z"
    },
    "tags": []
   },
   "outputs": [],
   "source": [
    "# 분광복사조도 E가 확산판을 통과한 뒤의 분광복사휘도\n",
    "La_s = Ea * dat.diffuser / pi  # W/m^2nm sr\n",
    "Lb_s = Eb * dat.diffuser / pi  # W/m^2nm sr\n",
    "\n",
    "# 필터 1과 필터2를 통과한 뒤의 분광복사휘도\n",
    "La_s *= dat.filter1 * dat.filter2  # W/m^2nm sr\n",
    "Lb_s *= dat.filter1 * dat.filter2  # W/m^2nm sr\n",
    "\n",
    "# L_s가 Si 광다이오드 표면에 전달한 분광복사조도 계산\n",
    "r_s, r_d, d = 10e-3 / 2, 4e-3 / 2, 5e-3\n",
    "A_s, A_d = pi * r_s**2, pi * r_d**2\n",
    "Ea_d = (\n",
    "    La_s\n",
    "    * A_s\n",
    "    / (2 * r_d**2 * r_s**2)\n",
    "    * (\n",
    "        r_s**2\n",
    "        + r_d**2\n",
    "        + d**2\n",
    "        - np.sqrt((r_s**2 + r_d**2 + d**2) ** 2 - 4 * r_d**2 * r_s**2)\n",
    "    )\n",
    ")\n",
    "Eb_d = (\n",
    "    Lb_s\n",
    "    * A_s\n",
    "    / (2 * r_d**2 * r_s**2)\n",
    "    * (\n",
    "        r_s**2\n",
    "        + r_d**2\n",
    "        + d**2\n",
    "        - np.sqrt((r_s**2 + r_d**2 + d**2) ** 2 - 4 * r_d**2 * r_s**2)\n",
    "    )\n",
    ")\n",
    "\n",
    "# Si 광다이오드 전체에 입사한 분광복사선속\n",
    "Phia_d = Ea_d * A_d  # W/nm\n",
    "Phib_d = Eb_d * A_d  # W/nm\n",
    "\n",
    "# Si 광다이오드의 출력전류\n",
    "Ia_d = (Phia_d * dat.PD * 5).sum()\n",
    "Ib_d = (Phib_d * dat.PD * 5).sum()\n",
    "\n",
    "# 결과출력\n",
    "print(\n",
    "    f\"CIE A 표준광: 입사 광조도 {Ea_v:5.1f} lx 일 때, 광조도계의 출력전류 {Ia_d:5.3e} A\"\n",
    ")\n",
    "print(\n",
    "    f\"W LED 6500K: 입사 광조도 {Eb_v:5.1f} lx 일 때, 광조도계의 출력전류 {Ib_d:5.3e} A\"\n",
    ")"
   ]
  },
  {
   "cell_type": "markdown",
   "metadata": {},
   "source": [
    "## 광휘도 일차 표준\n",
    "* 한국표준과학연구원을 비롯한 대부분의 국가의 표준기관은 광검출기 기반 광휘도 눈금 확립 방법을 따름.\n",
    "* 광조도 ($E_d$) + 정밀개구의 면적 ($A_s$) + 거리 ($d$) → 광휘도 ($L_s$)\n",
    "\n",
    "<img src=\"그림_광휘도_표준광원_교정.png\" width=\"600px\" title=\"광휘도 값 결정\" alt=\"광휘도 값 결정\"></img>\n",
    "\n",
    "$$L_s = \\left\\{1 + \\left( r_s \\over d\\right)^2 + \\left( r_d \\over d\\right)^2 \\right\\} {E_d d^2 \\over A_s}~~\\textrm{단,}~~r_s,~r_d \\ll d$$"
   ]
  },
  {
   "cell_type": "code",
   "execution_count": null,
   "metadata": {
    "execution": {
     "iopub.execute_input": "2024-08-27T15:57:54.757998Z",
     "iopub.status.busy": "2024-08-27T15:57:54.757998Z",
     "iopub.status.idle": "2024-08-27T15:57:54.765430Z",
     "shell.execute_reply": "2024-08-27T15:57:54.764413Z",
     "shell.execute_reply.started": "2024-08-27T15:57:54.757998Z"
    }
   },
   "outputs": [],
   "source": [
    "# 연습문제: 적분구 광원의 출사창 직경 25 mm, 광조도계의 검출면 직경 15 mm,\n",
    "# 적분구-광조도계 간 거리 500 mm 이고, 광조도계로 측정한 광조도 값이 10 lx 일 때,\n",
    "# 적분구 광원의 광휘도를 구하라.\n",
    "\n",
    "r_a = (25e-3) / 2\n",
    "A = pi * r_a**2\n",
    "r_d = (15e-3) / 2\n",
    "d = 500e-3\n",
    "E_v = 10\n",
    "L_v = (1 + (r_a / d) ** 2 + (r_d / d) ** 2) * E_v * d**2 / A\n",
    "print(f\"광휘도 : {L_v:4.0f} nt\")"
   ]
  },
  {
   "cell_type": "markdown",
   "metadata": {},
   "source": [
    "## 광휘도 표준광원\n",
    "* 여러 광휘도 수준을 만들어 낼 수 있도록 적분구 내에 광출력을 조절할 수 있는 수단이 마련되어 있음.\n",
    "  * 백열전구의 경우 동작전류를 변경시키면 분광분포가 변하기 때문에 전류를 조절하는 대신 조리개를 통해 출력을 조절함.\n",
    "* 적분구의 재질은 BaSO<sub>4</sub> (가시광선-적외선)나 PTFE (자외선-적외선). \n",
    "* 모니터 광휘도계는 온도 제어기가 필요할 수 있음.  → $V(\\lambda)$ 정합 필터의 온도 의존성\n",
    "* 백열전구는 출사개구로 발산되는 빛이 2856 K의 색온도를 갖도록 전류를 조정한 뒤 고정함 (전류 변경시 색온도가 변함).\n",
    "* 적분구의 분광출력효율 (spectral throughput)이 파장의 함수이기 때문에, 색온도가 2856 K 적분구 광원의 분광분포는 CIE A 표준광원의 분광분포와 차이가 있음.\n",
    "\n",
    "<img src=\"그림_광휘도_표준광원.png\" width=\"600px\" title=\"광휘도 표준광원\" alt=\"광휘도 표준광원\"></img>"
   ]
  },
  {
   "cell_type": "markdown",
   "metadata": {},
   "source": [
    "## 적분구 (integrating sphere)\n",
    "* 내벽이 반사율이 높은 람베르트 확산 재료로 형성되어 있는 구 형태의 광학 소자로, BaSO<sub>4</sub> 도료나 PTFE 블럭 등의 재료로 만들어 짐.\n",
    "* 적분구로 입사한 광선속이 적분구 내벽에 공간적으로 균일한 광휘도를 형성함.\n",
    "\n",
    "<img src=\"그림_적분구_복사전달.png\" width=\"350px\" title=\"적분구 복사전달\" alt=\"적분구 복사전달\"></img>"
   ]
  },
  {
   "cell_type": "markdown",
   "metadata": {},
   "source": [
    "적분구의 내벽의 한 요소 ($A_1$)가 $\\Phi_v$ 만큼의 광선속을 발산하여 다른 한 요소 ($A_2$)에 만들어 내는 광조도\n",
    "* $A_1$이 적분구 중심방향으로 내는 광도: $I_v(0) = {\\Phi_v \\over \\pi}$ (람베르트 표면의 유효 입체각 = $\\pi$)\n",
    "* $A_1$이 $A_2$ 방향으로 내는 광도: $I_v(\\theta) = {\\Phi_v \\over \\pi} \\cos\\theta$\n",
    "* $A_1$에서 $A_2$을 바라보았을 때의 입체각: $\\Omega = {A_2 \\cos\\theta \\over (2R\\cos\\theta)^2} = {A_2 \\over 4R^2 \\cos\\theta}$\n",
    "* $I_v(\\theta)$가 $A_2$에 전달한 광선속: $\\Phi_{2\\to1} = {I_v(\\theta) \\Omega} = {\\Phi_v A_2 \\over 4\\pi R^2}$\n",
    "* 결과적으로 $A_1$의 $\\Phi_v$가 $A_2$에 만들어 낸 광조도: $E_{2\\to1} = {\\Phi_{2\\to1} \\over A_2} = {\\Phi_v \\over 4\\pi R^2}$ \n",
    "* $E_{2\\to1}$이 $A_1$과 $A_2$의 위치(각도)에 무관하기 때문에 $A_1$과 $A_2$를 적분구의 내벽의 전체 표면적이라고 생각해도 성립한다."
   ]
  },
  {
   "cell_type": "markdown",
   "metadata": {},
   "source": [
    "적분구의 내의 한 지점에 $\\Phi_v$가 입사했을 때, 반사율이 $\\rho$인 적분구 내벽에 형성되는 광조도와 광휘도를 계산해보자.\n",
    "1. 입사광이 적분구에서 반사한 후의 광선속과 그 광선속이 만드는 광조도: $\\rho\\Phi_v, {\\rho\\Phi_v \\over 4\\pi R^2}$\n",
    "1. 이전 빛이 적분구에서 반사한 후의 광선속과 그 광선속이 만드는 광조도: $\\rho^2\\Phi_v , {\\rho^2\\Phi_v \\over 4\\pi R^2}$\n",
    "1. 이전 빛이 적분구에서 반사한 후의 광선속과 그 광선속이 만드는 광조도: $\\rho^3\\Phi_v , {\\rho^4\\Phi_v \\over 4\\pi R^2}$\n",
    "1. ...\n",
    "\n",
    "1 ~ $\\infty$ 회차까지의 중첩된 광조도를 모두 합하면,\n",
    "$$ E_v = {\\Phi_v \\over 4\\pi R^2} (\\rho + \\rho^2 + \\rho^3 + \\cdots) = {\\Phi_v \\over 4\\pi R^2} {\\rho \\over 1-\\rho}$$"
   ]
  },
  {
   "cell_type": "markdown",
   "metadata": {},
   "source": [
    "\n",
    "일반적으로 적분구의 표면 반사율이 균일하지 않으므로 (뚫려있는 구멍의 경우 $\\rho=0$) 이를 일반화하면, \n",
    "$$ E_v = {\\Phi_v \\over 4\\pi R^2} {\\rho_0 \\over 1-\\rho_e} ~~\\textrm{단,}~\\rho_e = {\\sum_{i=1}^n {\\rho_i A_i} \\over \\sum_{i=1}^n {A_i}}$$\n",
    "여기서, $\\rho_0$는 첫번째 반사가 일어나는 위치의 반사율, $\\rho_e$는 유효반사율임.\n",
    "\n",
    "반사율이 $\\rho_w$인 적분구 표면의 광휘도는\n",
    "$$ L_v = {\\rho_w E \\over \\pi}= {\\rho_w \\Phi_v \\over 4\\pi^2 R^2} {\\rho_0 \\over 1-\\rho_e} $$"
   ]
  },
  {
   "cell_type": "code",
   "execution_count": null,
   "metadata": {
    "execution": {
     "iopub.execute_input": "2024-08-27T15:57:54.767430Z",
     "iopub.status.busy": "2024-08-27T15:57:54.766430Z",
     "iopub.status.idle": "2024-08-27T15:57:54.789490Z",
     "shell.execute_reply": "2024-08-27T15:57:54.789490Z",
     "shell.execute_reply.started": "2024-08-27T15:57:54.767430Z"
    }
   },
   "outputs": [],
   "source": [
    "# 연습문제: 광선속 500 lm을 직경 50 cm, 반사율 95% 적분구(시창 직경 15 cm)에\n",
    "# 넣었을 때 적분구의 표면 광휘도는?\n",
    "\n",
    "phi = 500  # 광선속 (50 W 할로겐 전구)\n",
    "rho = 0.95  # 적분구 표면 반사율\n",
    "R = 50e-2 / 2  # 적분구 반경\n",
    "A = 4 * pi * R**2  # 적분구 표면적\n",
    "r = 15e-2 / 2  # 시창 반경\n",
    "a = pi * r**2  # 시창 면적\n",
    "rho_e = rho * (A - a) / A  # 유효반사율\n",
    "L = rho * phi / (4 * pi**2 * R**2) * rho / (1 - rho_e)\n",
    "print(f\"유효반사율 {rho_e:5.3} 광휘도 {L:5.0f} nt\")"
   ]
  },
  {
   "cell_type": "markdown",
   "metadata": {},
   "source": [
    "## 전광선속 (total luminous flux)\n",
    "\n",
    "* `광원`에서 전체 입체각으로 발산하는 총 광선속\n",
    "\n",
    "$$ \\Phi_v = \\int_{4\\pi} I_v(\\theta, \\phi) d\\Omega $$\n",
    "\n",
    "\n",
    "<img src=\"그림_전광선속의_기하학적_조건.png\" width=\"400px\" title=\"전광선속의 기하학적 조건\" alt=\"전광선속의 기하학적 조건\"></img>"
   ]
  },
  {
   "cell_type": "markdown",
   "metadata": {},
   "source": [
    "## 전광선속 일차 표준\n",
    "* 측각광도계를 통해 표준전구의 광도를 $4\\pi$ 입체각 전체에 대해 모두 측정 후 적산함으로써 전광선속을 측정함.\n",
    "* 한국표준과학연구원의 경우 회전 반경 2 m의 측각광도계를 이용하여 전광선속 표준전구를 교정하고 (일차 표준), 다시 그 표준전구를 적분구 광도계를 이용하여 복제함으로써 전광선속 눈금을 보급함.\n",
    "* 측각광도계는 기계부의 회전을 동반하기 때문에 기본적으로 측정 속도가 매우 느림."
   ]
  },
  {
   "cell_type": "markdown",
   "metadata": {},
   "source": [
    "## 적분구 광도계\n",
    "* 측각광도계에 비해, 싸고, 빠르지만 전광선속이 교정되어 있는 표준전구를 필요로 함.\n",
    "* 최근에는 적분구 광도계보다는 적분구 분광복사계가 더 흔함. \n",
    "  * 광도계는 분광분포 불일치 오차가 취약하나 분광복사계는 분광분포 불일치가 오차가 거의 없음.\n",
    "* 적분구의 구면의 형성되는 광조도가 적분구 내 광선속에 비례하는 원리를 이용\n",
    "$$ E_v = {\\Phi_v \\over 4\\pi R^2} {\\rho_0 \\over 1-\\rho_e} $$\n",
    "\n",
    "<style>\n",
    "td, th {\n",
    "   border: none!important;\n",
    "}\n",
    "</style>\n",
    "</style>\n",
    "<table>\n",
    "<tr>\n",
    "<td>\n",
    "<img src=\"그림_적분구_광도계.png\" width=\"450px\" title=\"적분구 광도계\" alt=\"적분구 광도계\"></img>\n",
    "</td>\n",
    "<td>\n",
    "<table>\n",
    "<tr><td> Φ<sub>dut</sub></td> <td> 교정대상 전구의 전광선속 값</td>\n",
    "<tr><td> Φ<sub>ref</sub></td> <td> 표준전구의 전광선속 기준값</td>\n",
    "<tr><td> y<sub>ref</sub></td> <td> 기준 전구 점등 시 광조도값</td>\n",
    "<tr><td> y<sub>dut</sub></td> <td> 교정대상 전구 점등 시 광조도값</td>\n",
    "<tr><td> x<sub>ref</sub></td> <td> 보조 전구 점등 상태에서 기준 전구 장착 시 광조도값</td>\n",
    "<tr><td> x<sub>dut</sub></td> <td> 보조 전구 점등 상태에서 교정대상 전구 장착 시 광조도값</td>\n",
    "</table>\n",
    "</td>\n",
    "</table>\n",
    "\n",
    "$$ \\Phi_{dut} = \\Phi_{ref} {y_{dut} \\over y_{ref}} {x_{ref} \\over x_{dut}}  $$\n",
    "\n",
    "* 차광판과 적분구 내벽의 반사율은 가능한 높은 것이 좋음 (단, 자체흡수 불일치 보정을 할 경우)\n",
    "* 일반적으로 전구는 점등자세 (base-up 혹은 base-down)에 따라 전광선속 값이 달라짐 (백열전구, LED 등)\n",
    "* 기준 전광선속 표준전구와 교정대상 전구와의 “차이”는 모두 오차요인임: 색깔, 배광, 크기/모양/재질 등"
   ]
  },
  {
   "cell_type": "code",
   "execution_count": null,
   "metadata": {
    "execution": {
     "iopub.execute_input": "2024-08-27T15:57:54.793699Z",
     "iopub.status.busy": "2024-08-27T15:57:54.791688Z",
     "iopub.status.idle": "2024-08-27T15:57:54.803497Z",
     "shell.execute_reply": "2024-08-27T15:57:54.801480Z",
     "shell.execute_reply.started": "2024-08-27T15:57:54.793699Z"
    }
   },
   "outputs": [],
   "source": [
    "# 연습문제: 적분구 광도계를 이용하여 전구 x의 전광선속을 측정하려고 한다.\n",
    "# 기준으로 사용한 표준전구의 전광선속은 1000 lm이고, 표준전구 점등 시 기기의\n",
    "# 지시값은 50 lx, 전구 x 점등 시 기기의 지시값은 40 lx 이었다. 또한, 보조전구\n",
    "# 점등 하에서 표준전구 장착 시 기기의 지시값은 100 lx, 전구 x 장착 시 기기의\n",
    "# 지시값은 102 lx 이었다. 전구 x의 전광선속은?\n",
    "\n",
    "Phi_ref = 1000\n",
    "y_ref, y_dut = 50, 40\n",
    "x_ref, x_dut = 100, 102\n",
    "Phi_dut = Phi_ref * y_dut / y_ref * x_ref / x_dut\n",
    "print(f\"전광선속 : {Phi_dut:5.1f} lm\")"
   ]
  },
  {
   "cell_type": "markdown",
   "metadata": {},
   "source": [
    "## 적분구 광도계의 정상 동작을 담보하기 위한 조건\n",
    "1. 광원은 반사율이 높은 표면만 바라봐야 한다.\n",
    "1. 광원과 마주 보는 면은 광원에서 멀리 떨어져 있어야 한다. "
   ]
  },
  {
   "cell_type": "markdown",
   "metadata": {},
   "source": [
    "# 광원색(光原色, source color)\n",
    "* 광원색은 광원에서 방출되는 빛의 분광분포 중 R, G, B 성분이 어떻게 분포하는지에 관한 것\n",
    "* 정량적으로는 등색함수 $\\bar{x}(\\lambda)$, $\\bar{y}(\\lambda)$, $\\bar{z}(\\lambda)$와 광원의 분광분포 $S(\\lambda)$로부터 산출되는 삼자극치 $X$, $Y$, $Z$ 로 결정됨.\n",
    "* 광원색 측정량에는 다음과 같이 다양한 측정량이 존재함.\n",
    "  1. CIE 1931 $(x,~y)$ 색좌표\n",
    "  2. CIE 1976 $(u',~v')$ 색좌표 _cf_. CIE 1960 $(u,~v)$\n",
    "  3. 상관색온도 (correlated color temperature)\n",
    "  4. 으뜸파장 (dominant wavelength)\n",
    "  5. `연색지수 (color rendering index)`\n",
    "  * 1 ~ 4는 모두 삼자극치 $X$, $Y$, $Z$ 로 결정할 수 있음. "
   ]
  },
  {
   "cell_type": "markdown",
   "metadata": {
    "jp-MarkdownHeadingCollapsed": true
   },
   "source": [
    "## 삼자극치 (tristimulus value)\n",
    "* 분광분포 내에 각각 적색($X$), 녹색($Y$), 청색($Z$) 자극량을 얼마나 포함하고 있는 지를 정량화한 것\n",
    "* $Y$는 광측정량(photometric integral)으로 $S(\\lambda)$가 분광복사휘도일 경우 광휘도, 분광복사조도일 경우 광도, 분광복사선속일 경우 광선속에 해당함. \n",
    "  * $\\bar{y}(\\lambda) = V(\\lambda)$\n",
    "\n",
    "$$ X = K_m \\int_{380~\\textrm{nm}}^{780~\\textrm{nm}} {S(\\lambda)\\bar{x}(\\lambda)d\\lambda} $$\n",
    "$$ Y = K_m \\int_{380~\\textrm{nm}}^{780~\\textrm{nm}} {S(\\lambda)\\bar{y}(\\lambda)d\\lambda} $$\n",
    "$$ Z = K_m \\int_{380~\\textrm{nm}}^{780~\\textrm{nm}} {S(\\lambda)\\bar{z}(\\lambda)d\\lambda} $$"
   ]
  },
  {
   "cell_type": "markdown",
   "metadata": {},
   "source": [
    "## 물체색의 삼자극치\n",
    "분광분포가 $S(\\lambda)$인 조명광의 광조도가 100 lx로 정규화되어 있다고 가정하고,\n",
    "$$ \\left(\\textrm{즉,}~K_m \\int_{380~\\textrm{nm}}^{780~\\textrm{nm}} {S(\\lambda)\\bar{y}(\\lambda)d\\lambda} = 100~\\textrm{lx} \\right)$$\n",
    "\n",
    "* 반사색의 경우, 물체의 반사율을 $\\rho(\\lambda)$라고 하면\n",
    "$$ X = K_m \\int_{380~\\textrm{nm}}^{780~\\textrm{nm}} {\\rho(\\lambda)S(\\lambda)\\bar{x}(\\lambda)d\\lambda} $$\n",
    "$$ Y = K_m \\int_{380~\\textrm{nm}}^{780~\\textrm{nm}} {\\rho(\\lambda)S(\\lambda)\\bar{y}(\\lambda)d\\lambda} $$\n",
    "$$ Z = K_m \\int_{380~\\textrm{nm}}^{780~\\textrm{nm}} {\\rho(\\lambda)S(\\lambda)\\bar{z}(\\lambda)d\\lambda} $$\n",
    "* 투과색의 경우, 물체의 투과율을 $\\tau(\\lambda)$라고 하면\n",
    "$$ X = K_m \\int_{380~\\textrm{nm}}^{780~\\textrm{nm}} {\\tau(\\lambda)S(\\lambda)\\bar{x}(\\lambda)d\\lambda} $$\n",
    "$$ Y = K_m \\int_{380~\\textrm{nm}}^{780~\\textrm{nm}} {\\tau(\\lambda)S(\\lambda)\\bar{y}(\\lambda)d\\lambda} $$\n",
    "$$ Z = K_m \\int_{380~\\textrm{nm}}^{780~\\textrm{nm}} {\\tau(\\lambda)S(\\lambda)\\bar{z}(\\lambda)d\\lambda} $$"
   ]
  },
  {
   "cell_type": "code",
   "execution_count": null,
   "metadata": {
    "execution": {
     "iopub.execute_input": "2024-08-27T15:57:54.805498Z",
     "iopub.status.busy": "2024-08-27T15:57:54.804499Z",
     "iopub.status.idle": "2024-08-27T15:57:55.130706Z",
     "shell.execute_reply": "2024-08-27T15:57:55.130706Z",
     "shell.execute_reply.started": "2024-08-27T15:57:54.805498Z"
    }
   },
   "outputs": [],
   "source": [
    "# 2도 시야 등색함수\n",
    "d3 = pd.read_excel(\n",
    "    \"CIE_data.xlsx\", sheet_name=\"CIE_CMF\", index_col=0, usecols=[0, 1, 2, 3]\n",
    ")\n",
    "print(d3.head())\n",
    "d3.plot(\n",
    "    figsize=(5, 3),\n",
    "    xlim=(350, 800),\n",
    "    marker=\".\",\n",
    "    xlabel=\"파장 (nm)\",\n",
    "    color=[\"r\", \"g\", \"b\"],\n",
    "    title=\"CIE 2°시야 등색함수\",\n",
    ")\n",
    "plt.legend([r\"$\\bar{x}_2(\\lambda)$\", r\"$\\bar{y}_2(\\lambda)$\", r\"$\\bar{z}_2(\\lambda)$\"])\n",
    "plt.show()"
   ]
  },
  {
   "cell_type": "code",
   "execution_count": null,
   "metadata": {
    "execution": {
     "iopub.execute_input": "2024-08-27T15:57:55.130706Z",
     "iopub.status.busy": "2024-08-27T15:57:55.130706Z",
     "iopub.status.idle": "2024-08-27T15:57:55.418471Z",
     "shell.execute_reply": "2024-08-27T15:57:55.417453Z",
     "shell.execute_reply.started": "2024-08-27T15:57:55.130706Z"
    }
   },
   "outputs": [],
   "source": [
    "# 연습문제: CIE A 표준광원의 X, Y, Z 삼자극치를 구하라\n",
    "# 참고: CIE A 표준광원의 분광분포\n",
    "#   f_A(w) =\n",
    "#   100(560/w)^5[exp(1.435E7/(2848*560))-1]/[exp(1.435E7/(2848*w))-1]\n",
    "\n",
    "\n",
    "# 삼자극치 계산함수의 정의\n",
    "def tristimulus(S):\n",
    "    X = dw * K_m * d3.x2[w].mul(S).sum()\n",
    "    Y = dw * K_m * d3.y2[w].mul(S).sum()\n",
    "    Z = dw * K_m * d3.z2[w].mul(S).sum()\n",
    "    return X, Y, Z\n",
    "\n",
    "\n",
    "# CIE A 표준광원의 분광분포 함수 정의\n",
    "f_A = (\n",
    "    lambda w: 100\n",
    "    * (560 / w) ** 5\n",
    "    * (np.exp(1.435e7 / (2848 * 560)) - 1)\n",
    "    / (np.exp(1.435e7 / (2848 * w)) - 1)\n",
    ")\n",
    "# 분광분포 계산\n",
    "S = f_A(w)\n",
    "# 삼자극치 계산\n",
    "X, Y, Z = tristimulus(S)\n",
    "# 삼자극치 출력\n",
    "print(f\"X = {X:5.3e}, Y = {Y:5.3e}, Z = {Z:5.3e}\")\n",
    "# 그래프로 표현\n",
    "fig, ax1 = plt.subplots(figsize=(5, 3))\n",
    "ax2 = ax1.twinx()\n",
    "ax1.plot(w, S, \".-\")\n",
    "ax2.plot(w, d3.x2[w], \"r-\")\n",
    "ax2.plot(w, d3.y2[w], \"g-\")\n",
    "ax2.plot(w, d3.z2[w], \"b-\")\n",
    "ax1.set_xlabel(\"파장 (nm)\")\n",
    "ax1.set_ylabel(\"분광분포\")\n",
    "ax2.set_ylabel(\"등색함수\")\n",
    "lines = ax1.get_lines() + ax2.get_lines()\n",
    "ax2.legend(\n",
    "    lines,\n",
    "    [\n",
    "        r\"CIE A 표준광원\",\n",
    "        r\"$\\bar{x}_2(\\lambda)$\",\n",
    "        r\"$\\bar{y}_2(\\lambda)$\",\n",
    "        r\"$\\bar{z}_2(\\lambda)$\",\n",
    "    ],\n",
    ")\n",
    "plt.show()"
   ]
  },
  {
   "cell_type": "markdown",
   "metadata": {},
   "source": [
    "## CIE 1931 (x, y) 색좌표\n",
    "$$ x = {X \\over X + Y + Z},~y = {Y \\over X+Y+Z} $$"
   ]
  },
  {
   "cell_type": "code",
   "execution_count": null,
   "metadata": {
    "execution": {
     "iopub.execute_input": "2024-08-27T15:57:55.420472Z",
     "iopub.status.busy": "2024-08-27T15:57:55.420472Z",
     "iopub.status.idle": "2024-08-27T15:57:55.864940Z",
     "shell.execute_reply": "2024-08-27T15:57:55.864940Z",
     "shell.execute_reply.started": "2024-08-27T15:57:55.420472Z"
    },
    "tags": []
   },
   "outputs": [],
   "source": [
    "# 연습문제: CIE A 표준광원의 CIE 1931 (x, y) 색좌표를 구하라.\n",
    "\n",
    "\n",
    "# XYZ -> xy 계산 함수 정의\n",
    "def CIE1931xy(X, Y, Z):\n",
    "    return X / (X + Y + Z), Y / (X + Y + Z)\n",
    "\n",
    "\n",
    "# CIE 1931 색좌표계 도시 함수 정의\n",
    "def show_CIE1931(x, y):\n",
    "    img = plt.imread(\"CIE1931_cropped.png\")\n",
    "    plt.figure(figsize=(5, 6))\n",
    "    plt.imshow(img, extent=[0, 0.8, 0, 0.9])\n",
    "    plt.plot(x, y, \"k+\")\n",
    "    plt.xlabel(\"$x$\")\n",
    "    plt.ylabel(\"$y$\")\n",
    "    plt.title(\"CIE 1931 $(x,~y)$\")\n",
    "    plt.show()\n",
    "\n",
    "\n",
    "# CIE 1931 (x, y) 색좌표 계산\n",
    "x, y = CIE1931xy(X, Y, Z)\n",
    "# CIE 1931 (x, y) 색좌표 출력\n",
    "print(f\"CIE 1931 (x, y) = ({x:6.4f}, {y:6.4f})\")\n",
    "# CIE 1931 (x, y) 색좌표계 도시\n",
    "show_CIE1931(x, y)"
   ]
  },
  {
   "cell_type": "markdown",
   "metadata": {},
   "source": [
    "## CIE 1976 (u', v') 색좌표\n",
    "$$ u' = {4x \\over -2x + 12y +3},~v' = {9y \\over -2x + 12y +3} $$\n",
    "$$ u = {4X \\over X + 15Y +3Z},~v = {9Y \\over X + 15Y +3Z} $$"
   ]
  },
  {
   "cell_type": "code",
   "execution_count": null,
   "metadata": {
    "execution": {
     "iopub.execute_input": "2024-08-27T15:57:55.864940Z",
     "iopub.status.busy": "2024-08-27T15:57:55.864940Z",
     "iopub.status.idle": "2024-08-27T15:57:56.583142Z",
     "shell.execute_reply": "2024-08-27T15:57:56.582131Z",
     "shell.execute_reply.started": "2024-08-27T15:57:55.864940Z"
    }
   },
   "outputs": [],
   "source": [
    "# 연습문제: CIE A 표준광원의 CIE 1976 (u', v') 색좌표를 구하라.\n",
    "\n",
    "\n",
    "# xy -> u'v' 계산 함수 정의\n",
    "def CIE1976uv_from_xy(x, y):\n",
    "    return 4 * x / (-2 * x + 12 * y + 3), 9 * y / (-2 * x + 12 * y + 3)\n",
    "\n",
    "\n",
    "# CIE 1976 색좌표계 도시 함수 정의\n",
    "def show_CIE1976(up, vp):\n",
    "    img = plt.imread(\"CIE1976_cropped.png\")\n",
    "    plt.figure(figsize=(5, 5))\n",
    "    plt.imshow(img, extent=[0, 0.6, 0, 0.6])\n",
    "    plt.plot(up, vp, \"k+\")\n",
    "    plt.xlabel(\"$u'$\")\n",
    "    plt.ylabel(\"$v'$\")\n",
    "    plt.title(\"CIE 1976 $(u',~v')$\")\n",
    "    plt.show()\n",
    "\n",
    "\n",
    "up, vp = CIE1976uv_from_xy(x, y)\n",
    "print(f\"CIE 1976 (u', v') = ({up:6.4f}, {vp:6.4f})\")\n",
    "show_CIE1976(up, vp)"
   ]
  },
  {
   "cell_type": "markdown",
   "metadata": {},
   "source": [
    "## CIE 1960 (u, v) 색좌표 \n",
    "* 현재는 폐기되었으며, 상관색온도 계산에만 사용됨.\n",
    "$$ u = {4x \\over -2x + 12y +3},~v = {6y \\over -2x + 12y +3} $$\n",
    "$$ u = {4X \\over X + 15Y +3Z},~v = {6Y \\over X + 15Y +3Z} $$"
   ]
  },
  {
   "cell_type": "code",
   "execution_count": null,
   "metadata": {
    "execution": {
     "iopub.execute_input": "2024-08-27T15:57:56.586146Z",
     "iopub.status.busy": "2024-08-27T15:57:56.585147Z",
     "iopub.status.idle": "2024-08-27T15:57:57.005573Z",
     "shell.execute_reply": "2024-08-27T15:57:57.005573Z",
     "shell.execute_reply.started": "2024-08-27T15:57:56.586146Z"
    },
    "tags": []
   },
   "outputs": [],
   "source": [
    "# 연습문제: CIE A 표준광원의 CIE 1960 (u, v) 색좌표를 구하라.\n",
    "\n",
    "\n",
    "# xy -> uv 계산 함수\n",
    "def CIE1960uv_from_xy(x, y):\n",
    "    return 4 * x / (-2 * x + 12 * y + 3), 6 * y / (-2 * x + 12 * y + 3)\n",
    "\n",
    "\n",
    "# CIE 1976 색좌표계 도시 함수 정의\n",
    "def show_CIE1960(u, v):\n",
    "    img = plt.imread(\"CIE1960_cropped.png\")\n",
    "    plt.figure(figsize=(5, 4))\n",
    "    plt.imshow(img, extent=[0, 0.6, 0, 0.4])\n",
    "    plt.plot(u, v, \"k+\")\n",
    "    plt.xlabel(\"$u$\")\n",
    "    plt.ylabel(\"$v$\")\n",
    "    plt.title(\"CIE 1960 $(u,~v)$\")\n",
    "    plt.show()\n",
    "\n",
    "\n",
    "# CIE 1960 (u, v) 색좌표 계산\n",
    "u, v = CIE1960uv_from_xy(x, y)\n",
    "# CIE 1960 (u, v) 색좌표 출력\n",
    "print(f\"CIE 1960 (u, v) = ({u:6.4f}, {v:6.4f})\")\n",
    "# CIE 1960 (u, v) 색좌표계 도시\n",
    "show_CIE1960(u, v)"
   ]
  },
  {
   "cell_type": "code",
   "execution_count": null,
   "metadata": {
    "execution": {
     "iopub.execute_input": "2024-08-27T15:57:57.005573Z",
     "iopub.status.busy": "2024-08-27T15:57:57.005573Z",
     "iopub.status.idle": "2024-08-27T15:57:57.016294Z",
     "shell.execute_reply": "2024-08-27T15:57:57.016294Z",
     "shell.execute_reply.started": "2024-08-27T15:57:57.005573Z"
    }
   },
   "outputs": [],
   "source": [
    "# 디스플레이 색역 (color gamut)\n",
    "# sRGB B, G, R, W 점의 (x, y)\n",
    "sRGB_x = [0.150, 0.300, 0.640, 0.313]\n",
    "sRGB_y = [0.060, 0.600, 0.330, 0.329]\n",
    "# Adobe RGB B, G, R, W 점의 (x, y)\n",
    "Adobe_x = [0.150, 0.210, 0.640, 0.313]\n",
    "Adobe_y = [0.060, 0.710, 0.330, 0.329]\n",
    "# P3-D65 B, G, R, W 점의 (x, y)\n",
    "P3_D65_x = [0.150, 0.265, 0.680, 0.313]\n",
    "P3_D65_y = [0.060, 0.690, 0.320, 0.329]"
   ]
  },
  {
   "cell_type": "code",
   "execution_count": null,
   "metadata": {
    "execution": {
     "iopub.execute_input": "2024-08-27T15:57:57.018319Z",
     "iopub.status.busy": "2024-08-27T15:57:57.018319Z",
     "iopub.status.idle": "2024-08-27T15:57:57.593395Z",
     "shell.execute_reply": "2024-08-27T15:57:57.593395Z",
     "shell.execute_reply.started": "2024-08-27T15:57:57.018319Z"
    },
    "tags": []
   },
   "outputs": [],
   "source": [
    "# 연습문제: 삼성 갤럭시 휴대폰의 R, G, B 원색과 W의 CIE 1931 색좌표를 계산하라.\n",
    "\n",
    "\n",
    "# 여러 스펙트럼에 대한 CIE 1931 xy 색좌표 계산 함수 정의\n",
    "def CIE1931xy_list(S):\n",
    "    X = K_m * S.mul(d3.x2[w], axis=0).sum() * dw\n",
    "    Y = K_m * S.mul(d3.y2[w], axis=0).sum() * dw\n",
    "    Z = K_m * S.mul(d3.z2[w], axis=0).sum() * dw\n",
    "    return X / (X + Y + Z), Y / (X + Y + Z)\n",
    "\n",
    "\n",
    "#  색역 도시 함수 정의\n",
    "def show_gamut(x, y, title=\"\"):\n",
    "    img = plt.imread(\"CIE1931_cropped.png\")\n",
    "    plt.figure(figsize=(5, 6))\n",
    "    plt.imshow(img, extent=[0, 0.8, 0, 0.9])\n",
    "    plt.plot([*x[:-1], x[0]], [*y[:-1], y[0]], \"k.-\")\n",
    "    plt.plot(x[-1], y[-1], \"k+\")\n",
    "    plt.text(x[1] - 0.003, y[1] + 0.005, title)\n",
    "    plt.plot([*sRGB_x[:-1], sRGB_x[0]], [*sRGB_y[:-1], sRGB_y[0]], \"r.--\")\n",
    "    plt.plot(sRGB_x[-1], sRGB_y[-1], \"r+\")\n",
    "    plt.text(sRGB_x[1] - 0.003, sRGB_y[1] + 0.005, \"sRGB\")\n",
    "    plt.plot([*Adobe_x[:-1], Adobe_x[0]], [*Adobe_y[:-1], Adobe_y[0]], \"b.--\")\n",
    "    plt.plot(Adobe_x[-1], Adobe_y[-1], \"b+\")\n",
    "    plt.text(Adobe_x[1] - 0.003, Adobe_y[1] + 0.005, \"Adobe\")\n",
    "    plt.plot([*P3_D65_x[:-1], P3_D65_x[0]], [*P3_D65_y[:-1], P3_D65_y[0]], \"g.--\")\n",
    "    plt.plot(P3_D65_x[-1], P3_D65_y[-1], \"g+\")\n",
    "    plt.text(P3_D65_x[1] - 0.003, P3_D65_y[1] + 0.005, \"P3_D65\")\n",
    "    plt.xlabel(\"$x$\")\n",
    "    plt.ylabel(\"$y$\")\n",
    "    plt.title(\"CIE 1931 $(x,~y)$\")\n",
    "    plt.show()\n",
    "\n",
    "\n",
    "# 삼성 갤럭시 휴대폰의 R, G, B 원색과 W 스펙트럼\n",
    "cols = [\"SAMSUNG_R\", \"SAMSUNG_G\", \"SAMSUNG_B\", \"SAMSUNG_W\"]\n",
    "S = d2.loc[w, cols]\n",
    "S.plot(\n",
    "    color=[\"r\", \"g\", \"b\", \"k\"], xlabel=\"파장 (nm)\", ylabel=\"분광분포\", figsize=[5, 3]\n",
    ")\n",
    "plt.show()\n",
    "\n",
    "# CIE 1931 xy 색좌표 계산\n",
    "x, y = CIE1931xy_list(S)\n",
    "for col, xi, yi in zip(cols, x, y):\n",
    "    print(f\"{col} ({xi:6.4f}, {yi:6.4f})\")\n",
    "\n",
    "# 색역 도시\n",
    "show_gamut(x.values, y.values, cols[1])"
   ]
  },
  {
   "cell_type": "code",
   "execution_count": null,
   "metadata": {
    "execution": {
     "iopub.execute_input": "2024-08-27T15:57:57.593395Z",
     "iopub.status.busy": "2024-08-27T15:57:57.593395Z",
     "iopub.status.idle": "2024-08-27T15:57:58.190482Z",
     "shell.execute_reply": "2024-08-27T15:57:58.189469Z",
     "shell.execute_reply.started": "2024-08-27T15:57:57.593395Z"
    }
   },
   "outputs": [],
   "source": [
    "# 연습문제: 애플 아이폰 휴대폰의 R, G, B 원색과 W의 CIE 1931 색좌표를 계산하라.\n",
    "\n",
    "# 애플 아이폰 휴대폰의 R, G, B 원색과 W 스펙트럼\n",
    "\n",
    "cols = [\"APPLE_R\", \"APPLE_G\", \"APPLE_B\", \"APPLE_W\"]\n",
    "S = d2.loc[w, cols]\n",
    "S.plot(\n",
    "    color=[\"r\", \"g\", \"b\", \"k\"], xlabel=\"파장 (nm)\", ylabel=\"분광분포\", figsize=[5, 3]\n",
    ")\n",
    "plt.show()\n",
    "\n",
    "# CIE 1931 xy 색좌표 계산\n",
    "x, y = CIE1931xy_list(S)\n",
    "for col, xi, yi in zip(cols, x, y):\n",
    "    print(f\"{col} ({xi:6.4f}, {yi:6.4f})\")\n",
    "\n",
    "# 색역 도시\n",
    "show_gamut(x.values, y.values, cols[1])"
   ]
  },
  {
   "cell_type": "code",
   "execution_count": null,
   "metadata": {
    "execution": {
     "iopub.execute_input": "2024-08-27T15:57:58.192479Z",
     "iopub.status.busy": "2024-08-27T15:57:58.192479Z",
     "iopub.status.idle": "2024-08-27T15:57:58.913528Z",
     "shell.execute_reply": "2024-08-27T15:57:58.913528Z",
     "shell.execute_reply.started": "2024-08-27T15:57:58.192479Z"
    }
   },
   "outputs": [],
   "source": [
    "# 연습문제: 온도 T 흑체의 CIE 1960 (u, v) 색좌표계 상 궤적을 그려라\n",
    "\n",
    "# 복사상수\n",
    "c1, c2 = 3.74177e-16, 1.43878e-2\n",
    "\n",
    "\n",
    "# 흑체의 분광분포\n",
    "def f_bb(w, T):\n",
    "    return c1 / (w * 1e-9) ** 5 / ((np.exp(c2 / (w * 1e-9 * T))) - 1) * 1e-9\n",
    "\n",
    "\n",
    "# 1500 K ~ 20000 K 까지 100 K 간격의 흑체의 (u, v) 궤적 계산\n",
    "u_bb_list = []\n",
    "v_bb_list = []\n",
    "for T in range(1500, 20000 + 100, 100):\n",
    "    S = f_bb(w, T)\n",
    "    X, Y, Z = tristimulus(S)\n",
    "    u_bb, v_bb = CIE1960uv_from_xy(*CIE1931xy(X, Y, Z))\n",
    "    u_bb_list.append(u_bb)\n",
    "    v_bb_list.append(v_bb)\n",
    "\n",
    "\n",
    "# CIE1960 좌표계 도시 함수 정의\n",
    "def show_CIE1960_CCT(u, v):\n",
    "    img = plt.imread(\"CIE1960_cropped.png\")\n",
    "    plt.figure(figsize=(6, 5))\n",
    "    plt.imshow(img, extent=[0, 0.6, 0, 0.4])\n",
    "    plt.plot(u, v, \"k+\")\n",
    "    plt.plot(u_bb_list, v_bb_list, \"k-\")\n",
    "    plt.xlim([0.16, 0.36])\n",
    "    plt.ylim([0.26, 0.40])\n",
    "    plt.xlabel(\"$u$\")\n",
    "    plt.ylabel(\"$v$\")\n",
    "    plt.title(\"CIE 1960 $(u,~v)$ 좌표계\")\n",
    "    plt.show()\n",
    "\n",
    "\n",
    "# CIE 1960 색좌표계에 u_bb,v_bb 도시\n",
    "show_CIE1960_CCT(u_bb_list, v_bb_list)"
   ]
  },
  {
   "cell_type": "markdown",
   "metadata": {},
   "source": [
    "## 상관색온도 (correlated color temperature) 와 $D_{uv}$\n",
    "* 상관색온도\n",
    "  * 대상 광원의 색과 온도 $T$의 흑체의 색을 CIE 1960 $(u,~v)$ 좌표계에서 비교하였을 때 가장 비슷해 보이는 흑체의 온도\n",
    "* $D_{uv}$\n",
    "  * 대상 광원의 색좌표 $(u,~v)$와 대상 광원의 상관색온도 $T$에 해당하는 흑체의 색좌표 $(u_{bb}(T), v_{bb}(T))$간 거리 \n",
    "    * 광원의 색깔이 얼마나 흑체 궤적에서 멀리 떨어져 있는지를 정량화한 양\n",
    "    * 대상 광원의 $(u,~v)$가 흑체 궤적 위에 있을 경우 $D_{uv}$의 부호는 +\n",
    "    * 대상 광원의 $(u, v)$가 흑체 궤적 위에 있을 경우 $D_{uv}$의 부호는 -\n",
    "* 광원의 조명 성능에 관한 측정량으로 기본적으로 백색광에 대해서 적용됨."
   ]
  },
  {
   "cell_type": "code",
   "execution_count": null,
   "metadata": {
    "execution": {
     "iopub.execute_input": "2024-08-27T15:57:58.913528Z",
     "iopub.status.busy": "2024-08-27T15:57:58.913528Z",
     "iopub.status.idle": "2024-08-27T15:58:00.219943Z",
     "shell.execute_reply": "2024-08-27T15:58:00.219943Z",
     "shell.execute_reply.started": "2024-08-27T15:57:58.913528Z"
    }
   },
   "outputs": [],
   "source": [
    "# 연습문제: CIE A 표준광원의 상관색온도와 Duv를 계산하라\n",
    "\n",
    "\n",
    "# 경사하강법을 이용한 상관색온도 계산 함수 정의\n",
    "def CCT_iteration(u, v, verbose=False):\n",
    "    gain = 1e5\n",
    "    dT = 0.1\n",
    "    T = 1000\n",
    "    correction = 0\n",
    "    for iter in range(10000):\n",
    "        # 온도 T 흑체와 거리 계산\n",
    "        S = f_bb(w, T)\n",
    "        u_bb, v_bb = CIE1960uv_from_xy(*CIE1931xy(*tristimulus(S)))\n",
    "        duv_0 = np.sqrt((u_bb - u) ** 2 + (v_bb - v) ** 2)\n",
    "        # 온도 T + dT 흑체와 거리 계산\n",
    "        S = f_bb(w, T + dT)\n",
    "        u_bb, v_bb = CIE1960uv_from_xy(*CIE1931xy(*tristimulus(S)))\n",
    "        duv_1 = np.sqrt((u_bb - u) ** 2 + (v_bb - v) ** 2)\n",
    "        # 거리의 미분에 gain을 곱한만큼 경사하강\n",
    "        correction = (correction - (duv_1 - duv_0) / dT * gain) / 2\n",
    "        T += correction\n",
    "        if iter % 50 == 0 and verbose == True:\n",
    "            print(\n",
    "                f\"iter: {iter:4d}, correction: {correction:4.2e}, \\\n",
    " T= {T:6.1f}, Duv = {duv_0*np.sign(v - v_bb):6.4f}\"\n",
    "            )\n",
    "        if abs(correction) < 1e-4:\n",
    "            break\n",
    "    if verbose:\n",
    "        print(\n",
    "            f\"iter: {iter:4d}, correction: {correction:4.2e}, \\\n",
    "T= {T:6.1f}, Duv = {duv_0*np.sign(v - v_bb):6.4f}\"\n",
    "        )\n",
    "    return T, duv_0\n",
    "\n",
    "\n",
    "# 앞에서 구한 CIE A 표준광원의 u, v 색좌표\n",
    "u, v = 0.2560, 0.3495\n",
    "# 경사하강법에 의한 상관색온도 계산\n",
    "CCT, Duv = CCT_iteration(u, v, verbose=True)\n",
    "print(f\"경사하강법에 의한 CCT = {CCT:6.1f} K, Duv = {Duv:6.4f}\")\n",
    "# CIE 1960 색좌표계에 u,v 도시\n",
    "show_CIE1960_CCT(u, v)"
   ]
  },
  {
   "cell_type": "markdown",
   "metadata": {},
   "source": [
    "## 상관색 온도를 계산하기 위한 Robertson의 방법\n",
    "\n",
    "* 온도 $T_i$ 흑체의 $(u_i,~v_i)$ 값과 각 $(u_i,~v_i)$에서의 법선의 기울기 $m_i$를 여러 $T_i$ 값에 대해 미리 계산하여 테이블을 만들어 둠.\n",
    "1. 측정 대상 광원의 $(u,~v)$와 사전에 계산해둔 데이터 테이블의 각 $(u_i,~v_i)$를 지나는 법선과의 거리 $d_i$를 계산함.\n",
    "2. 계산한 거리를 기준으로 대상 광원의 $(u,~v)$와 가장 가까운 두 점 $(u_k,~v_k)$, $(u_{k+1},~v_{k+1})$과 그 때의 거리 $d_k$, $d_{k+1}$를 찾음.\n",
    "3. $T_{k}^{-1}$과 $T_{k+1}^{-1}$을 $d_k$, $d_{k+1}$로 내분하는 값으로 $T^{-1}$를 결정하고, 이 값의 역수를 취해 대상 광원의 상관색온도를 구함.\n",
    "\n",
    "$$ T^{-1} = {d_{k+1} T_k^{-1} - d_k T_{k+1}^{-1} \\over d_{k+1} - d_k}~\\textrm{단,}~ d_i = {(v - v_i) - m_i (u - u_i) \\over \\sqrt{1 + m_i^2}}$$ \n",
    "\n",
    "<img src=\"그림_CCT_Robertson.png\" width=\"400px\" title=\"Robertson 방법\" alt=\"Robertson 방법\"></img>\n",
    "</td>\n"
   ]
  },
  {
   "cell_type": "code",
   "execution_count": null,
   "metadata": {
    "execution": {
     "iopub.execute_input": "2024-08-27T15:58:00.219943Z",
     "iopub.status.busy": "2024-08-27T15:58:00.219943Z",
     "iopub.status.idle": "2024-08-27T15:58:01.101555Z",
     "shell.execute_reply": "2024-08-27T15:58:01.100547Z",
     "shell.execute_reply.started": "2024-08-27T15:58:00.219943Z"
    }
   },
   "outputs": [],
   "source": [
    "# 연습문제: Robertson's 방법으로 (u, v) = (0.2560, 0.3495)의 상관색온도를 구하시오\n",
    "(u, v) = (0.2560, 0.3495)\n",
    "\n",
    "# 상관색온도, u, v, 법선의 기울기를 테이블 만들기\n",
    "iTbb = np.arange(10, 2000 + 10, 10)\n",
    "iTbb = np.array([0.1, *iTbb])\n",
    "d4 = pd.DataFrame(index=iTbb, columns=[\"Tbb\", \"u\", \"v\", \"slope\"])\n",
    "d4.index.name = \"iTbb\"\n",
    "dT = 0.001\n",
    "for idx in d4.index:\n",
    "    T = 1e6 / idx\n",
    "    S = f_bb(w, T)\n",
    "    u_bb_0, v_bb_0 = CIE1960uv_from_xy(*CIE1931xy(*tristimulus(S)))\n",
    "    S = f_bb(w, T + dT)\n",
    "    u_bb_1, v_bb_1 = CIE1960uv_from_xy(*CIE1931xy(*tristimulus(S)))\n",
    "    d4.loc[idx, \"Tbb\"] = T\n",
    "    d4.loc[idx, \"u\"] = u_bb_0\n",
    "    d4.loc[idx, \"v\"] = v_bb_0\n",
    "    d4.loc[idx, \"slope\"] = -(u_bb_1 - u_bb_0) / (v_bb_1 - v_bb_0)\n",
    "print(d4)\n",
    "\n",
    "\n",
    "# Robertson 방법에 의한 CCT 계산 함수 정의\n",
    "def CCT_Robertson_from_uv(u, v):\n",
    "    inv_t = d4.index.to_numpy(\"float\")  # 1E6/T\n",
    "    u_t = d4[\"u\"].to_numpy(\"float\")  # u(T)\n",
    "    v_t = d4[\"v\"].to_numpy(\"float\")  # v(T)\n",
    "    m = d4[\"slope\"].to_numpy(\"float\")  # m(T) 법선의 기울기\n",
    "    # 거리 계산\n",
    "    d = ((v - v_t) - m * (u - u_t)) / np.sqrt(1 + m**2)\n",
    "    # k 찾기\n",
    "    for k in range(len(d) - 1):\n",
    "        if d[k] / d[k + 1] < 0:\n",
    "            break\n",
    "    CCT = 1e6 / (inv_t[k] + d[k] / (d[k] - d[k + 1]) * (inv_t[k + 1] - inv_t[k]))\n",
    "    # duv 계산\n",
    "    a = (v_t[k + 1] - v_t[k]) / (u_t[k + 1] - u_t[k])\n",
    "    Duv = (v - (a * (u - u_t[k]) + v_t[k])) / np.sqrt(1.0 + a**2)\n",
    "    return CCT, Duv\n",
    "\n",
    "\n",
    "# Robertson 방법에 의한 CCT 계산\n",
    "CCT, Duv = CCT_Robertson_from_uv(u, v)\n",
    "print(f\"Robertson 방법에 의한 CCT = {CCT:6.1f} K, Duv = {Duv:6.4f}\")"
   ]
  },
  {
   "cell_type": "code",
   "execution_count": null,
   "metadata": {
    "execution": {
     "iopub.execute_input": "2024-08-27T15:58:01.101555Z",
     "iopub.status.busy": "2024-08-27T15:58:01.101555Z",
     "iopub.status.idle": "2024-08-27T15:58:01.516654Z",
     "shell.execute_reply": "2024-08-27T15:58:01.516654Z",
     "shell.execute_reply.started": "2024-08-27T15:58:01.101555Z"
    }
   },
   "outputs": [],
   "source": [
    "# 연습문제: 명목 색온도 6500 K의 백색 LED의 상관색온도와 Duv를 계산하라\n",
    "\n",
    "# 명목 색온도 6500 K의 백색 LED의 분광분포 준비\n",
    "S = d2[\"LED_W65\"][w]\n",
    "# 분광분포 플롯\n",
    "S.plot(xlabel=\"파장 (nm)\", ylabel=\"분광분포\", marker=\".\", figsize=[5, 3])\n",
    "plt.show()\n",
    "\n",
    "# u, v 색좌표 계산\n",
    "u, v = CIE1960uv_from_xy(*CIE1931xy(*tristimulus(S)))\n",
    "print(f\"CIE 1960 (u, v) = ({u:6.4f}, {v:6.4f})\")\n",
    "\n",
    "# Robertson 방법으로 CCT, Duv 계산\n",
    "CCT, Duv = CCT_Robertson_from_uv(u, v)\n",
    "print(f\"Robertson 방법에 의한 CCT = {CCT:6.1f} K, Duv = {Duv:6.4f}\")\n",
    "\n",
    "# CIE 1960 색좌표계에 u,v 도시\n",
    "show_CIE1960_CCT(u, v)"
   ]
  },
  {
   "cell_type": "code",
   "execution_count": null,
   "metadata": {
    "execution": {
     "iopub.execute_input": "2024-08-27T15:58:01.516654Z",
     "iopub.status.busy": "2024-08-27T15:58:01.516654Z",
     "iopub.status.idle": "2024-08-27T15:58:01.991523Z",
     "shell.execute_reply": "2024-08-27T15:58:01.990507Z",
     "shell.execute_reply.started": "2024-08-27T15:58:01.516654Z"
    }
   },
   "outputs": [],
   "source": [
    "# 연습문제: CIE D65 표준광의 상관색온도와 Duv를 계산하라\n",
    "\n",
    "# CIE D65 표준광의 분광분포 준비\n",
    "S = d2[\"D65\"][w]\n",
    "# 분광분포 플롯\n",
    "S.plot(xlabel=\"파장 (nm)\", ylabel=\"분광분포\", marker=\".\", figsize=[5, 3])\n",
    "plt.show()\n",
    "\n",
    "# u, v 색좌표 계산\n",
    "u, v = CIE1960uv_from_xy(*CIE1931xy(*tristimulus(S)))\n",
    "print(f\"CIE 1960 (u, v) = ({u:6.4f}, {v:6.4f})\")\n",
    "\n",
    "# Robertson 방법으로 CCT, Duv 계산\n",
    "CCT, Duv = CCT_Robertson_from_uv(u, v)\n",
    "print(f\"Robertson 방법에 의한 CCT = {CCT:6.1f} K, Duv = {Duv:6.4f}\")\n",
    "\n",
    "# CIE 1960 색좌표계에 u,v 도시\n",
    "show_CIE1960_CCT(u, v)"
   ]
  },
  {
   "cell_type": "markdown",
   "metadata": {},
   "source": [
    "# 연색지수 (演色指數, color rendering index)\n",
    "* `조명광`의 `색 재현 능력`을 정량화한 측정량\n",
    "  * 높은 연색성: 미술관의 전시 조명, 백열등, 주광(태양광)\n",
    "  * 낮은 연색성: 정육점의 붉은 조명, 수은 등이나 나트륨 등으로 만들어진 가로등\n",
    "* 15종의 표준 색시편이 `조명광`과 조명광과 동일한 색온도의 `기준광` 하에서 나타내는 색을 차이를 점수화한 것 (100 점 만점)\n",
    "* 1번 부터 8번 색시편에 대한 점수를 평균한 것을 `일반연색지수`라고 일컫음.\n",
    "* 상관색온도와 동일하게 백색광에 대해서만 의미가 있음."
   ]
  },
  {
   "cell_type": "code",
   "execution_count": null,
   "metadata": {
    "execution": {
     "iopub.execute_input": "2024-08-27T15:58:01.993523Z",
     "iopub.status.busy": "2024-08-27T15:58:01.993523Z",
     "iopub.status.idle": "2024-08-27T15:58:02.565445Z",
     "shell.execute_reply": "2024-08-27T15:58:02.564433Z",
     "shell.execute_reply.started": "2024-08-27T15:58:01.993523Z"
    }
   },
   "outputs": [],
   "source": [
    "# 표준색 시편의 분광반사율\n",
    "d5 = pd.read_excel(\"CIE_data.xlsx\", sheet_name=\"CRI_TCS\", index_col=0, header=2)\n",
    "# 표준색 시편의 분광반사율 플롯\n",
    "d5.plot(xlabel=\"파장(nm)\", ylabel=\"분광반사율\", figsize=[6, 4])\n",
    "# 표준색 시편의 분광반사율 값 살펴보기\n",
    "d5.head()"
   ]
  },
  {
   "cell_type": "markdown",
   "metadata": {},
   "source": [
    "## 연색지수 계산 과정\n",
    "* 연색지수의 계산은 기본적으로 평가대상 조명광(이하 대상광)의 분광분포로부터 결정된다. \n",
    "* 명목색온도 6500 K의 백색 LED를 예시로 연색지수를 계산하는 방법을 단계별로 알아보도록 한다. \n",
    "\n",
    "### 대상광의 분광분포 데이터를 준비한다."
   ]
  },
  {
   "cell_type": "code",
   "execution_count": null,
   "metadata": {
    "execution": {
     "iopub.execute_input": "2024-08-27T15:58:02.567448Z",
     "iopub.status.busy": "2024-08-27T15:58:02.567448Z",
     "iopub.status.idle": "2024-08-27T15:58:02.755471Z",
     "shell.execute_reply": "2024-08-27T15:58:02.753449Z",
     "shell.execute_reply.started": "2024-08-27T15:58:02.567448Z"
    }
   },
   "outputs": [],
   "source": [
    "# 대상광 분광분포 준비\n",
    "S_k = d2[\"LED_W65\"][w]\n",
    "# 대상광 분광분포 플롯\n",
    "S_k.plot(xlabel=\"파장 (nm)\", ylabel=\"분광분포\", marker=\".\", figsize=[5, 3])\n",
    "plt.show()"
   ]
  },
  {
   "cell_type": "markdown",
   "metadata": {},
   "source": [
    "### 대상광의 광조도가 100 lx가 되도록 분광분포를 정규화한다."
   ]
  },
  {
   "cell_type": "code",
   "execution_count": null,
   "metadata": {
    "execution": {
     "iopub.execute_input": "2024-08-27T15:58:02.758465Z",
     "iopub.status.busy": "2024-08-27T15:58:02.757474Z",
     "iopub.status.idle": "2024-08-27T15:58:02.771816Z",
     "shell.execute_reply": "2024-08-27T15:58:02.769805Z",
     "shell.execute_reply.started": "2024-08-27T15:58:02.758465Z"
    }
   },
   "outputs": [],
   "source": [
    "# 삼자극치 중 광조도 값에 해당하는 Y를 계산함.\n",
    "_, Y_k, _ = tristimulus(S_k)\n",
    "# 100 lx 가 되도록 정규화\n",
    "S_k = 100 / Y_k * S_k"
   ]
  },
  {
   "cell_type": "markdown",
   "metadata": {},
   "source": [
    "### 대상광의 상관색온도를 계산한다.\n",
    "* 이 과정에서, 대상광의 CIE 1960 (u, v) 색좌표 $(u_k,~v_k)$가 구해진다. 이 후, 대상광과 관련된 양은 첨자 $k$로 표시한다."
   ]
  },
  {
   "cell_type": "code",
   "execution_count": null,
   "metadata": {
    "execution": {
     "iopub.execute_input": "2024-08-27T15:58:02.774827Z",
     "iopub.status.busy": "2024-08-27T15:58:02.773827Z",
     "iopub.status.idle": "2024-08-27T15:58:02.785320Z",
     "shell.execute_reply": "2024-08-27T15:58:02.783765Z",
     "shell.execute_reply.started": "2024-08-27T15:58:02.774827Z"
    }
   },
   "outputs": [],
   "source": [
    "# 대상광의 u, v 색좌표 계산\n",
    "u_k, v_k = CIE1960uv_from_xy(*CIE1931xy(*tristimulus(S_k)))\n",
    "# 대상광의 u, v 색좌표 출력\n",
    "print(f\"({u_k:6.4f}, {v_k:6.4f})\")"
   ]
  },
  {
   "cell_type": "code",
   "execution_count": null,
   "metadata": {
    "execution": {
     "iopub.execute_input": "2024-08-27T15:58:02.787948Z",
     "iopub.status.busy": "2024-08-27T15:58:02.786946Z",
     "iopub.status.idle": "2024-08-27T15:58:02.797454Z",
     "shell.execute_reply": "2024-08-27T15:58:02.797454Z",
     "shell.execute_reply.started": "2024-08-27T15:58:02.787948Z"
    }
   },
   "outputs": [],
   "source": [
    "# 대상광의 상관색온도 계산\n",
    "T_k, Duv_k = CCT_Robertson_from_uv(u_k, v_k)\n",
    "# 대상광의 상관색온도 출력\n",
    "print(f\"T_k = {T_k:6.1f}, Duv_k = {Duv_k:6.4f}\")"
   ]
  },
  {
   "cell_type": "markdown",
   "metadata": {},
   "source": [
    "### 기준광을 결정한다.\n",
    "* 상관색온도가 5000 K 미만이면, 기준광은 동일한 상관색온도의 흑체이다.\n",
    "* 상관색온도가 5000 K 이상이면, 기준광은 동일한 상관색온도의 주광(daylight)이다.\n",
    "* 이 후, 기준광과 관련된 양은 첨자 $r$로 표시한다."
   ]
  },
  {
   "cell_type": "code",
   "execution_count": null,
   "metadata": {
    "execution": {
     "iopub.execute_input": "2024-08-27T15:58:02.797454Z",
     "iopub.status.busy": "2024-08-27T15:58:02.797454Z",
     "iopub.status.idle": "2024-08-27T15:58:03.001877Z",
     "shell.execute_reply": "2024-08-27T15:58:03.001877Z",
     "shell.execute_reply.started": "2024-08-27T15:58:02.797454Z"
    }
   },
   "outputs": [],
   "source": [
    "# CIE 주광 데이터 (S0, S1, S2) 읽어오기\n",
    "d6 = pd.read_excel(\"CIE_data.xlsx\", sheet_name=\"CIE_daylight\", index_col=0)\n",
    "# 주광의 분광분포를 만들어내는 함수 정의\n",
    "\n",
    "\n",
    "def s_daylight(w, t):\n",
    "    if t < 7000:\n",
    "        # 온도가 4000 K ~ 7000 K 영역일 경우\n",
    "        x = (\n",
    "            -4.6070 * (1e9 / t**3)\n",
    "            + 2.9678 * (1e6 / t**2)\n",
    "            + 0.09911 * (1e3 / t)\n",
    "            + 0.244063\n",
    "        )\n",
    "    else:\n",
    "        # 온도가 7000 K ~ 25000 K 영역일 경우\n",
    "        x = (\n",
    "            -2.0064 * (1e9 / t**3)\n",
    "            + 1.9018 * (1e6 / t**2)\n",
    "            + 0.24748 * (1e3 / t)\n",
    "            + 0.237040\n",
    "        )\n",
    "    y = -3.000 * (x**2) + 2.870 * x - 0.275\n",
    "    m1 = (-1.3515 - 1.7703 * x + 5.9114 * y) / (0.0241 + 0.2562 * x - 0.7341 * y)\n",
    "    m2 = (0.0300 - 31.4424 * x + 30.0717 * y) / (0.0241 + 0.2562 * x - 0.7341 * y)\n",
    "    return d6.S0[w] + m1 * d6.S1[w] + m2 * d6.S2[w]\n",
    "\n",
    "\n",
    "# 기준광 결정\n",
    "if T_k < 5000:\n",
    "    # 기준광은 흑체\n",
    "    S_r = pd.Series(f_bb(w, T_k), index=w)\n",
    "else:\n",
    "    # 기준광은 daylight\n",
    "    S_r = pd.Series(s_daylight(w, T_k), index=w)\n",
    "# 기준광의 분광분포 플롯\n",
    "S_r.plot(xlabel=\"파장 (nm)\", ylabel=\"분광분포\", marker=\".\", figsize=[5, 3])\n",
    "plt.show()"
   ]
  },
  {
   "cell_type": "markdown",
   "metadata": {},
   "source": [
    "### 기준광의 광조도가 100 lx가 되도록 분광분포를 정규화한다."
   ]
  },
  {
   "cell_type": "code",
   "execution_count": null,
   "metadata": {
    "execution": {
     "iopub.execute_input": "2024-08-27T15:58:03.001877Z",
     "iopub.status.busy": "2024-08-27T15:58:03.001877Z",
     "iopub.status.idle": "2024-08-27T15:58:03.016660Z",
     "shell.execute_reply": "2024-08-27T15:58:03.014645Z",
     "shell.execute_reply.started": "2024-08-27T15:58:03.001877Z"
    }
   },
   "outputs": [],
   "source": [
    "# 삼자극치 중 광조도 값에 해당하는 Y를 계산함.\n",
    "_, Y_r, _ = tristimulus(S_r)\n",
    "# 100 lx 가 되도록 정규화\n",
    "S_r = 100 / Y_r * S_r"
   ]
  },
  {
   "cell_type": "markdown",
   "metadata": {},
   "source": [
    "### 기준광의 CIE 1960 (u, v)를 계산한다."
   ]
  },
  {
   "cell_type": "code",
   "execution_count": null,
   "metadata": {
    "execution": {
     "iopub.execute_input": "2024-08-27T15:58:03.016660Z",
     "iopub.status.busy": "2024-08-27T15:58:03.016660Z",
     "iopub.status.idle": "2024-08-27T15:58:03.030067Z",
     "shell.execute_reply": "2024-08-27T15:58:03.030067Z",
     "shell.execute_reply.started": "2024-08-27T15:58:03.016660Z"
    }
   },
   "outputs": [],
   "source": [
    "# 기준광의 (u, v) 색좌표 계산\n",
    "u_r, v_r = CIE1960uv_from_xy(*CIE1931xy(*tristimulus(S_r)))\n",
    "# 기준광의 (u, v) 색좌표 출력\n",
    "print(f\"({u_r:6.4f}, {v_r:6.4f})\")"
   ]
  },
  {
   "cell_type": "markdown",
   "metadata": {},
   "source": [
    "### 대상광과 기준광의 색차 D<sub>uv</sub>가 0.0054 보다 작은지 확인한다.\n",
    "* $D_{uv} = \\sqrt{(u_k-u_r)^2 + (v_k-v_r)^2}$ 를 계산하여 이 값이 $D_{uv} < 0.0054$를 확인한다."
   ]
  },
  {
   "cell_type": "code",
   "execution_count": null,
   "metadata": {
    "execution": {
     "iopub.execute_input": "2024-08-27T15:58:03.032583Z",
     "iopub.status.busy": "2024-08-27T15:58:03.032583Z",
     "iopub.status.idle": "2024-08-27T15:58:03.046896Z",
     "shell.execute_reply": "2024-08-27T15:58:03.046896Z",
     "shell.execute_reply.started": "2024-08-27T15:58:03.032583Z"
    }
   },
   "outputs": [],
   "source": [
    "# 기준광과 대상광의 u, v 색차 확인\n",
    "Duv = np.sqrt((u_k - u_r) ** 2 + (v_k - v_r) ** 2)\n",
    "# Duv 출력\n",
    "print(f\"Duv = {Duv:6.4f}\")"
   ]
  },
  {
   "cell_type": "markdown",
   "metadata": {},
   "source": [
    "### 색적응을 고려하기 위한 사전 계산을 한다.\n",
    "* 기준광과 대상광의 색좌표 $(u_r,~v_r)$과 $(u_k,~v_k)$에 대해 각각 $(c_r,~d_r)$와 $(c_k,~d_k)$ 값을 계산한다\n",
    "$$ c_r = {1 \\over v_r(4-u_r-10v_r)},~d_r = {1 \\over v_r(1.708v_r + 0.404 -1.481u_r)}$$\n",
    "$$ c_k = {1 \\over v_k(4-u_k-10v_k)},~d_k = {1 \\over v_k(1.708v_k + 0.404 -1.481u_k)}$$"
   ]
  },
  {
   "cell_type": "code",
   "execution_count": null,
   "metadata": {
    "execution": {
     "iopub.execute_input": "2024-08-27T15:58:03.046896Z",
     "iopub.status.busy": "2024-08-27T15:58:03.046896Z",
     "iopub.status.idle": "2024-08-27T15:58:03.061531Z",
     "shell.execute_reply": "2024-08-27T15:58:03.060520Z",
     "shell.execute_reply.started": "2024-08-27T15:58:03.046896Z"
    }
   },
   "outputs": [],
   "source": [
    "# 색적응을 고려하기 위해 필요한 c, d 값 계산 함수\n",
    "def cd_values(u, v):\n",
    "    return 1 / v * (4 - u - 10 * v), 1 / v * (1.708 * v + 0.404 - 1.481 * u)\n",
    "\n",
    "\n",
    "# 기준광과 대상광에 대한 c, d 값 계산\n",
    "c_r, d_r = cd_values(u_r, v_r)\n",
    "c_k, d_k = cd_values(u_k, v_k)\n",
    "\n",
    "# (u_k, v_k)의 색적응된 색좌표 (up_k, vp_k)\n",
    "up_k = (10.872 + 0.404 * c_r / c_k * c_k - 4 * d_r / d_k * d_k) / (\n",
    "    16.518 + 1.481 * c_r / c_k * c_k - d_r / d_k * d_k\n",
    ")\n",
    "vp_k = 5.520 / (16.518 + 1.481 * c_r / c_k * c_k - d_r / d_k * d_k)\n",
    "\n",
    "# (u_k, v_k)의 색적응된 색좌표 (up_k, vp_k)가 (u_r, v_r)과 동일한 지 확인\n",
    "print(\n",
    "    f\"(u_k, v_k) = ({u_k:6.4f}, {v_k:6.4f}), \\n\\\n",
    "(up_k, vp_k) = ({up_k:6.4f}, {vp_k:6.4f}), \\n\\\n",
    "(u_r, v_r) = ({u_r:6.4f}, {v_r:6.4f})\"\n",
    ")"
   ]
  },
  {
   "cell_type": "markdown",
   "metadata": {},
   "source": [
    "### 기준광과 대상광 조명 하에서 색시편의 색좌표를 계산한다.\n",
    "* 기준광과 대상광 조명 하에서 15 종의 표준 색시편에 대한 `반사색`의 색좌표 CIE 1960 $(u,~v)$과 삼자극치 중 $Y$를 계산한다.\n",
    "    * 기준광 조명하에서 시편의 반사색 좌표를 $(u_{ri},~v_{ri})$, 삼자극치 $Y$를 $Y_{ri}$로 표기한다.\n",
    "    * 대상광 조명하에서 시편의 반사색 좌표를 $(u_{ki},~v_{ki})$, 삼자극치 $Y$를 $Y_{ki}$로 표기한다. \n",
    "\n",
    "### 대상광 조명하에서 색시편의 색좌표에 색적응을 적용한다.\n",
    "* 대상광 조명 하에서 색시편의 색좌표 $(u_{ki},~v_{ki})$에 대해 $(c_{ki},~d_{ki})$를 계산한다.\n",
    "* 두 조명광과 색시편 반사광의 $c,~d$ 값을 이용하여 계산되며, 색적응된 색시편의 색좌표를 $(u_{pki},~v_{pki})$로 표기한다.\n",
    "$$ u_{pki} = {10.872 + 0.404  {c_r \\over c_k}  c_{ki} - 4 {d_r \\over d_k} d_{ki} \\over 16.518 + 1.481  {c_r \\over c_k} c_{ki} - {d_r \\over d_k}  d_{ki}}$$\n",
    "$$ v_{pki} = {5.520 \\over 16.518 + 1.481  {c_r \\over c_k}  c_{ki} - {d_r \\over d_k}  d_{ki}} $$\n",
    "\n",
    "### 색시편의 CIE 1964 (U*, V*, W*) 색좌표를 계산한다.\n",
    "색시편의 CIE 1964 $(U^*,~V^*,~W^*)$ 색좌표를 대상광 조명과 기준광 조명 하에서 각각 계산한다.\n",
    "$$W^*_{ri} = 25 Y_{ri}^{1 \\over 3} - 17,~~ W^*_{ki} = 25 Y_{ki}^{1 \\over 3} - 17 $$\n",
    "$$U^*_{ri} = 13 W^*_{ri} (u_{ri} - u_r),~~ U^*_{ki} = 13 W^*_{ki} (u_{pki} - u_{pk})$$\n",
    "$$V^*_{ri} = 13 W^*_{ri} (v_{ri} - v_r),~~ V^*_{ki} = 13 W^*_{ki} (v_{pki} - v_{pk})$$\n",
    "\n",
    "### 두 조명광 하에서 색시편의 CIE 1964 색좌표간 색차를 계산한다.\n",
    "$$\\Delta E_i = \\sqrt{(W^*_{ki} - W^*_{ri})^2 + (U^*_{ki} - U^*_{ri})^2 + (V^*_{ki} - V^*_{ri})^2}$$\n",
    "\n",
    "### 특수연색지수를 계산한다.\n",
    "$$R_i = 100 -4.6\\Delta E_i ~~\\textrm{단,}~i = 1 \\cdots 15$$"
   ]
  },
  {
   "cell_type": "code",
   "execution_count": null,
   "metadata": {
    "execution": {
     "iopub.execute_input": "2024-08-27T15:58:03.064531Z",
     "iopub.status.busy": "2024-08-27T15:58:03.063532Z",
     "iopub.status.idle": "2024-08-27T15:58:03.385249Z",
     "shell.execute_reply": "2024-08-27T15:58:03.385249Z",
     "shell.execute_reply.started": "2024-08-27T15:58:03.064531Z"
    }
   },
   "outputs": [],
   "source": [
    "# 컬러 타일을 표현하기 위한 XYZ => sRGB 변환함수 정의\n",
    "def XYZ2sRGB(XYZ):\n",
    "    # sRGB 역감마 적용 함수\n",
    "    def inv_gamma(x):\n",
    "        x = min(x, 1)\n",
    "        x = max(x, 0)\n",
    "        return 12.92 * x if x <= 0.0031308 else 1.055 * x ** (1.0 / 2.4) - 0.055\n",
    "\n",
    "    # XYZ -> RGB 변환 행렬\n",
    "    inv_m = np.array(\n",
    "        [\n",
    "            [+3.2406, -1.5372, -0.4986],\n",
    "            [-0.9689, +1.8758, +0.0415],\n",
    "            [+0.0557, -0.2040, +1.0570],\n",
    "        ]\n",
    "    )\n",
    "    return np.array(tuple(map(inv_gamma, inv_m @ XYZ)))\n",
    "\n",
    "\n",
    "# 컬러 타일을 그리기 위한 그래프 설정\n",
    "plt.figure(figsize=[10, 2])\n",
    "plt.axes()\n",
    "# 특수연색지수 Ri 값을 저장할 리스트 변수\n",
    "R_i_list = []\n",
    "idx = 0\n",
    "for name, rho in d5.loc[w, :].items():\n",
    "    # 대상광 조명하 색시편의 삼자극치 계산\n",
    "    X_ki, Y_ki, Z_ki = tristimulus(rho * S_k)\n",
    "    # 기준광 조명하 색시편의 삼자극치 계산\n",
    "    X_ri, Y_ri, Z_ri = tristimulus(rho * S_r)\n",
    "    # 대상광 조명하 색시편의 u, v 색좌표 계산\n",
    "    u_ki, v_ki = CIE1960uv_from_xy(*CIE1931xy(X_ki, Y_ki, Z_ki))\n",
    "    # 기준광 조명하 색시편의 u, v 색좌표 계산\n",
    "    u_ri, v_ri = CIE1960uv_from_xy(*CIE1931xy(X_ri, Y_ri, Z_ri))\n",
    "    # 대상광 조명하 색시편의 u, v 색좌표에 색적응 효과 적용\n",
    "    c_ki, d_ki = cd_values(u_ki, v_ki)\n",
    "    up_ki = (10.872 + 0.404 * c_r / c_k * c_ki - 4 * d_r / d_k * d_ki) / (\n",
    "        16.518 + 1.481 * c_r / c_k * c_ki - d_r / d_k * d_ki\n",
    "    )\n",
    "    vp_ki = 5.520 / (16.518 + 1.481 * c_r / c_k * c_ki - d_r / d_k * d_ki)\n",
    "    # 기준광 및 대상광 조명하 색시편의 CIE 1964(U*,V*,W*)색좌표 계산\n",
    "    W_ri, W_ki = 25.0 * Y_ri ** (1.0 / 3.0) - 17, 25.0 * Y_ki ** (1.0 / 3.0) - 17\n",
    "    U_ri, U_ki = 13.0 * W_ri * (u_ri - u_r), 13.0 * W_ki * (up_ki - up_k)\n",
    "    V_ri, V_ki = 13.0 * W_ri * (v_ri - v_r), 13.0 * W_ki * (vp_ki - vp_k)\n",
    "    # 색차계산\n",
    "    DE_i = np.sqrt((W_ri - W_ki) ** 2 + (U_ri - U_ki) ** 2 + (V_ri - V_ki) ** 2)\n",
    "    # Ri 계산\n",
    "    R_i = 100.0 - 4.6 * DE_i\n",
    "    # Ri 배열에 추가\n",
    "    R_i_list.append(R_i)\n",
    "\n",
    "    # 컬러 타일 그리기\n",
    "    RGB_k = XYZ2sRGB(np.array([X_ki, Y_ki, Z_ki]) / 100)  # 대상광의 RGB\n",
    "    RGB_r = XYZ2sRGB(np.array([X_ri, Y_ri, Z_ri]) / 100)  # 기준광의 RGB\n",
    "    # 대상광에 대한 컬러 타일 그리기\n",
    "    plt.gca().add_patch(plt.Rectangle((idx * 1 + 0.5, 1 + 0.5), 0.9, 0.9, fc=RGB_k))\n",
    "    # 기준광에 대한 컬러 타일 그리기\n",
    "    plt.gca().add_patch(plt.Rectangle((idx * 1 + 0.5, 0 + 0.5), 0.9, 0.9, fc=RGB_r))\n",
    "    # Ri 값 표시\n",
    "    plt.text(idx * 1 + 0.6, 2.6, f\"{R_i:4.1f}\")\n",
    "    idx += 1\n",
    "\n",
    "plt.axis(\"scaled\")\n",
    "plt.xticks(range(1, 15 + 1))\n",
    "plt.ylim([0.2, 3])\n",
    "plt.xlabel(\"색시편 번호\")\n",
    "plt.yticks([1, 2, 2.7], labels=[\"기준광\", \"대상광\", \"$R_i$\"])\n",
    "plt.show()"
   ]
  },
  {
   "cell_type": "markdown",
   "metadata": {},
   "source": [
    "### 일반연색지수를 계산한다.\n",
    "* $R_1$ ~ $R_8$까지의 평균을 `일반연색지수`라고 부르며, $R_a$로 표기한다."
   ]
  },
  {
   "cell_type": "code",
   "execution_count": null,
   "metadata": {
    "execution": {
     "iopub.execute_input": "2024-08-27T15:58:03.385249Z",
     "iopub.status.busy": "2024-08-27T15:58:03.385249Z",
     "iopub.status.idle": "2024-08-27T15:58:03.395532Z",
     "shell.execute_reply": "2024-08-27T15:58:03.395532Z",
     "shell.execute_reply.started": "2024-08-27T15:58:03.385249Z"
    },
    "tags": []
   },
   "outputs": [],
   "source": [
    "# R1 ~ R8 까지의 평균\n",
    "R_a = np.mean(R_i_list[:8])\n",
    "# 일반 연색지수 출력\n",
    "print(f\"일반연색지수 Ra = {R_a:4.1f}\")"
   ]
  }
 ],
 "metadata": {
  "kernelspec": {
   "display_name": "Python 3 (ipykernel)",
   "language": "python",
   "name": "python3"
  },
  "language_info": {
   "codemirror_mode": {
    "name": "ipython",
    "version": 3
   },
   "file_extension": ".py",
   "mimetype": "text/x-python",
   "name": "python",
   "nbconvert_exporter": "python",
   "pygments_lexer": "ipython3",
   "version": "3.12.2"
  }
 },
 "nbformat": 4,
 "nbformat_minor": 4
}
